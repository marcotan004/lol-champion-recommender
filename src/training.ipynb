{
 "cells": [
  {
   "cell_type": "code",
   "execution_count": 54,
   "id": "7ac21a4c",
   "metadata": {},
   "outputs": [],
   "source": [
    "import csv\n",
    "import json\n",
    "import requests\n",
    "import numpy as np\n",
    "import pandas as pd\n",
    "import matplotlib.pyplot as plt\n",
    "import os\n",
    "\n",
    "from surprise import BaselineOnly, Dataset, Reader\n",
    "from surprise.model_selection import cross_validate"
   ]
  },
  {
   "cell_type": "markdown",
   "id": "559df6c9",
   "metadata": {},
   "source": [
    "## Test on sample data"
   ]
  },
  {
   "cell_type": "code",
   "execution_count": 55,
   "id": "b2495ad3",
   "metadata": {},
   "outputs": [
    {
     "name": "stdout",
     "output_type": "stream",
     "text": [
      "Evaluating RMSE, MAE of algorithm SVD on 5 split(s).\n",
      "\n",
      "                  Fold 1  Fold 2  Fold 3  Fold 4  Fold 5  Mean    Std     \n",
      "RMSE (testset)    0.9355  0.9268  0.9343  0.9420  0.9368  0.9351  0.0049  \n",
      "MAE (testset)     0.7405  0.7305  0.7358  0.7429  0.7352  0.7370  0.0043  \n",
      "Fit time          0.64    0.65    0.80    0.67    0.66    0.69    0.06    \n",
      "Test time         0.13    0.27    0.13    0.21    0.12    0.17    0.06    \n"
     ]
    },
    {
     "data": {
      "text/plain": [
       "{'test_rmse': array([0.93547286, 0.92675616, 0.93425742, 0.94199863, 0.93680441]),\n",
       " 'test_mae': array([0.74049652, 0.73045152, 0.73577312, 0.74285745, 0.73524914]),\n",
       " 'fit_time': (0.6417379379272461,\n",
       "  0.6509120464324951,\n",
       "  0.8026392459869385,\n",
       "  0.6737618446350098,\n",
       "  0.6618781089782715),\n",
       " 'test_time': (0.1270139217376709,\n",
       "  0.2731146812438965,\n",
       "  0.13073301315307617,\n",
       "  0.20796418190002441,\n",
       "  0.12169122695922852)}"
      ]
     },
     "execution_count": 55,
     "metadata": {},
     "output_type": "execute_result"
    }
   ],
   "source": [
    "from surprise import SVD\n",
    "from surprise import Dataset\n",
    "from surprise.model_selection import cross_validate\n",
    "\n",
    "data = Dataset.load_builtin('ml-100k')\n",
    "algo = SVD()\n",
    "cross_validate(algo, data, measures=['RMSE', 'MAE'], cv=5, verbose=True)"
   ]
  },
  {
   "cell_type": "markdown",
   "id": "dbe32a0b",
   "metadata": {},
   "source": [
    "## Perform SVD on my data\n",
    "\n",
    "SVD predicts a user's rating of a given champion, accounting for their individual bias."
   ]
  },
  {
   "cell_type": "code",
   "execution_count": 56,
   "id": "7fc72160",
   "metadata": {},
   "outputs": [
    {
     "name": "stdout",
     "output_type": "stream",
     "text": [
      "Evaluating RMSE, MAE of algorithm SVD on 5 split(s).\n",
      "\n",
      "                  Fold 1  Fold 2  Fold 3  Fold 4  Fold 5  Mean    Std     \n",
      "RMSE (testset)    0.2240  0.2225  0.2257  0.2236  0.2247  0.2241  0.0011  \n",
      "MAE (testset)     0.1521  0.1516  0.1525  0.1516  0.1521  0.1520  0.0004  \n",
      "Fit time          0.61    0.62    0.61    0.61    0.62    0.61    0.01    \n",
      "Test time         0.21    0.12    0.21    0.12    0.12    0.16    0.04    \n",
      "0.22408387495807944\n"
     ]
    }
   ],
   "source": [
    "file_path = os.path.expanduser(\"../data/data_surprise_format.csv\")\n",
    "reader = Reader(sep=\",\", rating_scale=(0,1))\n",
    "data = Dataset.load_from_file(file_path, reader)\n",
    "\n",
    "algo = SVD()\n",
    "res = cross_validate(algo, data, measures=['RMSE', 'MAE'], cv=5, verbose=True)\n",
    "print(res['test_rmse'].mean())"
   ]
  },
  {
   "cell_type": "markdown",
   "id": "2c9a1096",
   "metadata": {},
   "source": [
    "## Observe correlation of RMSE and N Factors in SVD"
   ]
  },
  {
   "cell_type": "code",
   "execution_count": 48,
   "id": "772a09a8",
   "metadata": {},
   "outputs": [
    {
     "name": "stdout",
     "output_type": "stream",
     "text": [
      "2\n",
      "12\n",
      "22\n",
      "32\n",
      "42\n",
      "52\n",
      "62\n",
      "72\n",
      "82\n",
      "92\n",
      "102\n",
      "112\n",
      "122\n",
      "132\n",
      "142\n",
      "152\n"
     ]
    }
   ],
   "source": [
    "file_path = os.path.expanduser(\"../data/data_surprise_format.csv\")\n",
    "reader = Reader(sep=\",\", rating_scale=(0,1))\n",
    "data = Dataset.load_from_file(file_path, reader)\n",
    "\n",
    "x = np.arange(2, 161, 10)\n",
    "y = np.zeros_like(x, dtype=float)\n",
    "algo = SVD()\n",
    "\n",
    "for i, n in enumerate(x):\n",
    "    print(n)\n",
    "    y[i] = cross_validate(algo, data, measures=['RMSE', 'MAE'], cv=5, verbose=False)['test_rmse'].mean() "
   ]
  },
  {
   "cell_type": "code",
   "execution_count": 30,
   "id": "090a6e85",
   "metadata": {},
   "outputs": [
    {
     "data": {
      "text/plain": [
       "[<matplotlib.lines.Line2D at 0x7fd433a2e6a0>]"
      ]
     },
     "execution_count": 30,
     "metadata": {},
     "output_type": "execute_result"
    },
    {
     "data": {
      "image/png": "[encoded data removed]",
      "text/plain": [
       "<Figure size 432x288 with 1 Axes>"
      ]
     },
     "metadata": {
      "needs_background": "light"
     },
     "output_type": "display_data"
    }
   ],
   "source": [
    "plt.plot(x,y)"
   ]
  },
  {
   "cell_type": "markdown",
   "id": "ad3120ac",
   "metadata": {},
   "source": [
    "## Test available classifiers on champion data\n",
    "\n",
    "SVD - predict a user's rating of a given champion, accounting for their individual bias.\n",
    "\n",
    "SVD++ - extension of SVD, accounting for implicit ratings, which accounts for the fact that a user rated item j without accouting for the given value (the user looked at this value)\n",
    "\n",
    "Baseline - predicts baseline estimate for given user and item\n",
    "\n",
    "Random - give a random rating based on distribution of training set\n",
    "\n",
    "NMF - based on Non-negative Matrix Factorization, similar to SVD - algorithm highly dependent on initial values\n",
    "\n",
    "Slope One - predict users preference for particular item based on preferences of other users\n",
    "\n",
    "Co-clustering - users and items assigned clusters"
   ]
  },
  {
   "cell_type": "code",
   "execution_count": 57,
   "id": "5309164e",
   "metadata": {},
   "outputs": [
    {
     "name": "stdout",
     "output_type": "stream",
     "text": [
      "Estimating biases using als...\n",
      "Estimating biases using als...\n",
      "Estimating biases using als...\n",
      "Estimating biases using als...\n",
      "Estimating biases using als...\n"
     ]
    }
   ],
   "source": [
    "from surprise import SVD, SVDpp, BaselineOnly, NormalPredictor, NMF, SlopeOne, CoClustering\n",
    "\n",
    "classifiers = [BaselineOnly(), SVD(), SVDpp(), NormalPredictor(), NMF(), SlopeOne(), CoClustering(n_cltr_u = 3, n_cltr_i = 3)]\n",
    "labels = ['Baseline', 'SVD', 'SVDpp', 'Random', 'NMF', 'Slope One', 'Co-clustering']\n",
    "\n",
    "results = {}\n",
    "for (cls, tag) in zip(classifiers, labels):\n",
    "    results[tag] = cross_validate(cls, data, measures=['RMSE', 'MAE'], cv=5, verbose=False)['test_rmse'].mean()"
   ]
  },
  {
   "cell_type": "code",
   "execution_count": 58,
   "id": "853c103e",
   "metadata": {},
   "outputs": [
    {
     "name": "stdout",
     "output_type": "stream",
     "text": [
      "{'Baseline': 0.22313972841647978, 'SVD': 0.224006722453932, 'SVDpp': 0.22181472806998498, 'Random': 0.32560531491010536, 'NMF': 0.22839614498810912, 'Slope One': 0.22199227159835014, 'Co-clustering': 0.32394888483520473}\n"
     ]
    }
   ],
   "source": [
    "print(results)"
   ]
  },
  {
   "cell_type": "code",
   "execution_count": null,
   "id": "0e667cfb",
   "metadata": {},
   "outputs": [],
   "source": []
  }
 ],
 "metadata": {
  "kernelspec": {
   "display_name": "Python 3",
   "language": "python",
   "name": "python3"
  },
  "language_info": {
   "codemirror_mode": {
    "name": "ipython",
    "version": 3
   },
   "file_extension": ".py",
   "mimetype": "text/x-python",
   "name": "python",
   "nbconvert_exporter": "python",
   "pygments_lexer": "ipython3",
   "version": "3.8.8"
  }
 },
 "nbformat": 4,
 "nbformat_minor": 5
}
