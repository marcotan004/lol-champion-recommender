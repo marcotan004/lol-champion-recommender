{
 "cells": [
  {
   "cell_type": "code",
   "execution_count": 2,
   "id": "b5a9d64b",
   "metadata": {},
   "outputs": [],
   "source": [
    "import csv\n",
    "import json\n",
    "import requests\n",
    "import numpy as np\n",
    "import pandas as pd\n",
    "import os\n",
    "\n",
    "from surprise import BaselineOnly, Dataset, Reader\n",
    "from surprise.model_selection import cross_validate"
   ]
  },
  {
   "cell_type": "markdown",
   "id": "0570e754",
   "metadata": {},
   "source": [
    "## Load data and map champion ID to Name and alphabetical index"
   ]
  },
  {
   "cell_type": "code",
   "execution_count": 3,
   "id": "dd6142e0",
   "metadata": {},
   "outputs": [
    {
     "name": "stdout",
     "output_type": "stream",
     "text": [
      "['Aatrox', 'Ahri', 'Akali', 'Akshan', 'Alistar', 'Amumu', 'Anivia', 'Annie', 'Aphelios', 'Ashe', 'AurelionSol', 'Azir', 'Bard', 'Belveth', 'Blitzcrank', 'Brand', 'Braum', 'Briar', 'Caitlyn', 'Camille', 'Cassiopeia', 'Chogath', 'Corki', 'Darius', 'Diana', 'Draven', 'DrMundo', 'Ekko', 'Elise', 'Evelynn', 'Ezreal', 'Fiddlesticks', 'Fiora', 'Fizz', 'Galio', 'Gangplank', 'Garen', 'Gnar', 'Gragas', 'Graves', 'Gwen', 'Hecarim', 'Heimerdinger', 'Illaoi', 'Irelia', 'Ivern', 'Janna', 'JarvanIV', 'Jax', 'Jayce', 'Jhin', 'Jinx', 'Kaisa', 'Kalista', 'Karma', 'Karthus', 'Kassadin', 'Katarina', 'Kayle', 'Kayn', 'Kennen', 'Khazix', 'Kindred', 'Kled', 'KogMaw', 'KSante', 'Leblanc', 'LeeSin', 'Leona', 'Lillia', 'Lissandra', 'Lucian', 'Lulu', 'Lux', 'Malphite', 'Malzahar', 'Maokai', 'MasterYi', 'Milio', 'MissFortune', 'MonkeyKing', 'Mordekaiser', 'Morgana', 'Naafiri', 'Nami', 'Nasus', 'Nautilus', 'Neeko', 'Nidalee', 'Nilah', 'Nocturne', 'Nunu', 'Olaf', 'Orianna', 'Ornn', 'Pantheon', 'Poppy', 'Pyke', 'Qiyana', 'Quinn', 'Rakan', 'Rammus', 'RekSai', 'Rell', 'Renata', 'Renekton', 'Rengar', 'Riven', 'Rumble', 'Ryze', 'Samira', 'Sejuani', 'Senna', 'Seraphine', 'Sett', 'Shaco', 'Shen', 'Shyvana', 'Singed', 'Sion', 'Sivir', 'Skarner', 'Sona', 'Soraka', 'Swain', 'Sylas', 'Syndra', 'TahmKench', 'Taliyah', 'Talon', 'Taric', 'Teemo', 'Thresh', 'Tristana', 'Trundle', 'Tryndamere', 'TwistedFate', 'Twitch', 'Udyr', 'Urgot', 'Varus', 'Vayne', 'Veigar', 'Velkoz', 'Vex', 'Vi', 'Viego', 'Viktor', 'Vladimir', 'Volibear', 'Warwick', 'Xayah', 'Xerath', 'XinZhao', 'Yasuo', 'Yone', 'Yorick', 'Yuumi', 'Zac', 'Zed', 'Zeri', 'Ziggs', 'Zilean', 'Zoe', 'Zyra']\n",
      "165\n",
      "{266: {'champion': 'Aatrox', 'index': 0}, 103: {'champion': 'Ahri', 'index': 1}, 84: {'champion': 'Akali', 'index': 2}, 166: {'champion': 'Akshan', 'index': 3}, 12: {'champion': 'Alistar', 'index': 4}, 32: {'champion': 'Amumu', 'index': 5}, 34: {'champion': 'Anivia', 'index': 6}, 1: {'champion': 'Annie', 'index': 7}, 523: {'champion': 'Aphelios', 'index': 8}, 22: {'champion': 'Ashe', 'index': 9}, 136: {'champion': 'AurelionSol', 'index': 10}, 268: {'champion': 'Azir', 'index': 11}, 432: {'champion': 'Bard', 'index': 12}, 200: {'champion': 'Belveth', 'index': 13}, 53: {'champion': 'Blitzcrank', 'index': 14}, 63: {'champion': 'Brand', 'index': 15}, 201: {'champion': 'Braum', 'index': 16}, 233: {'champion': 'Briar', 'index': 17}, 51: {'champion': 'Caitlyn', 'index': 18}, 164: {'champion': 'Camille', 'index': 19}, 69: {'champion': 'Cassiopeia', 'index': 20}, 31: {'champion': 'Chogath', 'index': 21}, 42: {'champion': 'Corki', 'index': 22}, 122: {'champion': 'Darius', 'index': 23}, 131: {'champion': 'Diana', 'index': 24}, 119: {'champion': 'Draven', 'index': 25}, 36: {'champion': 'DrMundo', 'index': 26}, 245: {'champion': 'Ekko', 'index': 27}, 60: {'champion': 'Elise', 'index': 28}, 28: {'champion': 'Evelynn', 'index': 29}, 81: {'champion': 'Ezreal', 'index': 30}, 9: {'champion': 'Fiddlesticks', 'index': 31}, 114: {'champion': 'Fiora', 'index': 32}, 105: {'champion': 'Fizz', 'index': 33}, 3: {'champion': 'Galio', 'index': 34}, 41: {'champion': 'Gangplank', 'index': 35}, 86: {'champion': 'Garen', 'index': 36}, 150: {'champion': 'Gnar', 'index': 37}, 79: {'champion': 'Gragas', 'index': 38}, 104: {'champion': 'Graves', 'index': 39}, 887: {'champion': 'Gwen', 'index': 40}, 120: {'champion': 'Hecarim', 'index': 41}, 74: {'champion': 'Heimerdinger', 'index': 42}, 420: {'champion': 'Illaoi', 'index': 43}, 39: {'champion': 'Irelia', 'index': 44}, 427: {'champion': 'Ivern', 'index': 45}, 40: {'champion': 'Janna', 'index': 46}, 59: {'champion': 'JarvanIV', 'index': 47}, 24: {'champion': 'Jax', 'index': 48}, 126: {'champion': 'Jayce', 'index': 49}, 202: {'champion': 'Jhin', 'index': 50}, 222: {'champion': 'Jinx', 'index': 51}, 145: {'champion': 'Kaisa', 'index': 52}, 429: {'champion': 'Kalista', 'index': 53}, 43: {'champion': 'Karma', 'index': 54}, 30: {'champion': 'Karthus', 'index': 55}, 38: {'champion': 'Kassadin', 'index': 56}, 55: {'champion': 'Katarina', 'index': 57}, 10: {'champion': 'Kayle', 'index': 58}, 141: {'champion': 'Kayn', 'index': 59}, 85: {'champion': 'Kennen', 'index': 60}, 121: {'champion': 'Khazix', 'index': 61}, 203: {'champion': 'Kindred', 'index': 62}, 240: {'champion': 'Kled', 'index': 63}, 96: {'champion': 'KogMaw', 'index': 64}, 897: {'champion': 'KSante', 'index': 65}, 7: {'champion': 'Leblanc', 'index': 66}, 64: {'champion': 'LeeSin', 'index': 67}, 89: {'champion': 'Leona', 'index': 68}, 876: {'champion': 'Lillia', 'index': 69}, 127: {'champion': 'Lissandra', 'index': 70}, 236: {'champion': 'Lucian', 'index': 71}, 117: {'champion': 'Lulu', 'index': 72}, 99: {'champion': 'Lux', 'index': 73}, 54: {'champion': 'Malphite', 'index': 74}, 90: {'champion': 'Malzahar', 'index': 75}, 57: {'champion': 'Maokai', 'index': 76}, 11: {'champion': 'MasterYi', 'index': 77}, 902: {'champion': 'Milio', 'index': 78}, 21: {'champion': 'MissFortune', 'index': 79}, 62: {'champion': 'MonkeyKing', 'index': 80}, 82: {'champion': 'Mordekaiser', 'index': 81}, 25: {'champion': 'Morgana', 'index': 82}, 950: {'champion': 'Naafiri', 'index': 83}, 267: {'champion': 'Nami', 'index': 84}, 75: {'champion': 'Nasus', 'index': 85}, 111: {'champion': 'Nautilus', 'index': 86}, 518: {'champion': 'Neeko', 'index': 87}, 76: {'champion': 'Nidalee', 'index': 88}, 895: {'champion': 'Nilah', 'index': 89}, 56: {'champion': 'Nocturne', 'index': 90}, 20: {'champion': 'Nunu', 'index': 91}, 2: {'champion': 'Olaf', 'index': 92}, 61: {'champion': 'Orianna', 'index': 93}, 516: {'champion': 'Ornn', 'index': 94}, 80: {'champion': 'Pantheon', 'index': 95}, 78: {'champion': 'Poppy', 'index': 96}, 555: {'champion': 'Pyke', 'index': 97}, 246: {'champion': 'Qiyana', 'index': 98}, 133: {'champion': 'Quinn', 'index': 99}, 497: {'champion': 'Rakan', 'index': 100}, 33: {'champion': 'Rammus', 'index': 101}, 421: {'champion': 'RekSai', 'index': 102}, 526: {'champion': 'Rell', 'index': 103}, 888: {'champion': 'Renata', 'index': 104}, 58: {'champion': 'Renekton', 'index': 105}, 107: {'champion': 'Rengar', 'index': 106}, 92: {'champion': 'Riven', 'index': 107}, 68: {'champion': 'Rumble', 'index': 108}, 13: {'champion': 'Ryze', 'index': 109}, 360: {'champion': 'Samira', 'index': 110}, 113: {'champion': 'Sejuani', 'index': 111}, 235: {'champion': 'Senna', 'index': 112}, 147: {'champion': 'Seraphine', 'index': 113}, 875: {'champion': 'Sett', 'index': 114}, 35: {'champion': 'Shaco', 'index': 115}, 98: {'champion': 'Shen', 'index': 116}, 102: {'champion': 'Shyvana', 'index': 117}, 27: {'champion': 'Singed', 'index': 118}, 14: {'champion': 'Sion', 'index': 119}, 15: {'champion': 'Sivir', 'index': 120}, 72: {'champion': 'Skarner', 'index': 121}, 37: {'champion': 'Sona', 'index': 122}, 16: {'champion': 'Soraka', 'index': 123}, 50: {'champion': 'Swain', 'index': 124}, 517: {'champion': 'Sylas', 'index': 125}, 134: {'champion': 'Syndra', 'index': 126}, 223: {'champion': 'TahmKench', 'index': 127}, 163: {'champion': 'Taliyah', 'index': 128}, 91: {'champion': 'Talon', 'index': 129}, 44: {'champion': 'Taric', 'index': 130}, 17: {'champion': 'Teemo', 'index': 131}, 412: {'champion': 'Thresh', 'index': 132}, 18: {'champion': 'Tristana', 'index': 133}, 48: {'champion': 'Trundle', 'index': 134}, 23: {'champion': 'Tryndamere', 'index': 135}, 4: {'champion': 'TwistedFate', 'index': 136}, 29: {'champion': 'Twitch', 'index': 137}, 77: {'champion': 'Udyr', 'index': 138}, 6: {'champion': 'Urgot', 'index': 139}, 110: {'champion': 'Varus', 'index': 140}, 67: {'champion': 'Vayne', 'index': 141}, 45: {'champion': 'Veigar', 'index': 142}, 161: {'champion': 'Velkoz', 'index': 143}, 711: {'champion': 'Vex', 'index': 144}, 254: {'champion': 'Vi', 'index': 145}, 234: {'champion': 'Viego', 'index': 146}, 112: {'champion': 'Viktor', 'index': 147}, 8: {'champion': 'Vladimir', 'index': 148}, 106: {'champion': 'Volibear', 'index': 149}, 19: {'champion': 'Warwick', 'index': 150}, 498: {'champion': 'Xayah', 'index': 151}, 101: {'champion': 'Xerath', 'index': 152}, 5: {'champion': 'XinZhao', 'index': 153}, 157: {'champion': 'Yasuo', 'index': 154}, 777: {'champion': 'Yone', 'index': 155}, 83: {'champion': 'Yorick', 'index': 156}, 350: {'champion': 'Yuumi', 'index': 157}, 154: {'champion': 'Zac', 'index': 158}, 238: {'champion': 'Zed', 'index': 159}, 221: {'champion': 'Zeri', 'index': 160}, 115: {'champion': 'Ziggs', 'index': 161}, 26: {'champion': 'Zilean', 'index': 162}, 142: {'champion': 'Zoe', 'index': 163}, 143: {'champion': 'Zyra', 'index': 164}}\n"
     ]
    }
   ],
   "source": [
    "filename = '../data/champion.json'\n",
    "with open(filename, 'r') as f:\n",
    "    champ_data = json.load(f)\n",
    "\n",
    "# contains index of championId and name\n",
    "id_champ_map = {}\n",
    "cols = []\n",
    "for i, c in enumerate(champ_data['data'].keys()):\n",
    "    id_champ_map[int(champ_data['data'][c]['key'])] = {'champion': champ_data['data'][c]['id'], 'index': i}\n",
    "    cols.append(champ_data['data'][c]['id'])\n",
    "\n",
    "print(cols)\n",
    "print(len(cols))\n",
    "print(id_champ_map)"
   ]
  },
  {
   "cell_type": "markdown",
   "id": "3fa76e47",
   "metadata": {},
   "source": [
    "## Save data in matrix format for analysis and df"
   ]
  },
  {
   "cell_type": "code",
   "execution_count": 14,
   "id": "15cdf205",
   "metadata": {},
   "outputs": [
    {
     "name": "stdout",
     "output_type": "stream",
     "text": [
      "[[0.         0.         0.02915197 ... 0.         0.         0.        ]\n",
      " [0.         0.         0.         ... 0.         0.         0.        ]\n",
      " [0.         0.34750708 0.35768539 ... 0.         0.         0.        ]\n",
      " ...\n",
      " [0.         0.         1.         ... 0.         0.         0.        ]\n",
      " [0.         0.         0.         ... 0.         0.         0.        ]\n",
      " [0.         0.90094475 0.         ... 0.         0.16045564 0.        ]]\n"
     ]
    }
   ],
   "source": [
    "filename = '../data/mastery_data.json'\n",
    "\n",
    "with open(filename, 'r') as f:\n",
    "    data = json.load(f)\n",
    "\n",
    "names = []\n",
    "r = np.zeros((len(data.keys()), len(cols)))\n",
    "\n",
    "for i, key in enumerate(data.keys()):\n",
    "    names.append([key])\n",
    "    for j, entry in enumerate(data[key]):\n",
    "        if j == 0:\n",
    "            maximum = entry['championPoints']\n",
    "        r[i][id_champ_map[entry['championId']]['index']] = entry['championPoints']/maximum\n",
    "\n",
    "        fields = ['player_id']\n",
    "print(r)\n",
    "with open('../data/names.csv', 'w') as f:\n",
    "    write = csv.writer(f)\n",
    "     \n",
    "    write.writerow(fields)\n",
    "    write.writerows(names)\n",
    "\n",
    "np.savetxt('../data/mastery.csv', r, delimiter=',', header=','.join(cols))"
   ]
  },
  {
   "cell_type": "code",
   "execution_count": 10,
   "id": "76bfd792",
   "metadata": {},
   "outputs": [
    {
     "name": "stdout",
     "output_type": "stream",
     "text": [
      "0.9996646498695336\n"
     ]
    }
   ],
   "source": [
    "def z(x):\n",
    "    return 1 / (1 + np.exp(40*(0.3-x)))\n",
    "\n",
    "print(z(0.4))"
   ]
  },
  {
   "cell_type": "markdown",
   "id": "2ec086e0",
   "metadata": {},
   "source": [
    "## Save Data in surprise format to load into surprise"
   ]
  },
  {
   "cell_type": "code",
   "execution_count": 28,
   "id": "c0f98ee0",
   "metadata": {},
   "outputs": [
    {
     "name": "stdout",
     "output_type": "stream",
     "text": [
      "742665\n"
     ]
    }
   ],
   "source": [
    "filename = '../data/mastery_data.json'\n",
    "\n",
    "with open(filename, 'r') as f:\n",
    "    data = json.load(f)\n",
    "\n",
    "nameDict = {}\n",
    "fields = [\"user\", \"item\", \"rating\"]\n",
    "\n",
    "ratings = [] # list of items\n",
    "r = np.zeros((len(data.keys()), len(cols)))\n",
    "\n",
    "for i, key in enumerate(data.keys()):\n",
    "    used = []\n",
    "    if i <= 4500:\n",
    "        for j, entry in enumerate(data[key]):\n",
    "            if j == 0:\n",
    "                # sorted in descending order\n",
    "                maximum = entry['championPoints']\n",
    "            score = entry['championPoints']/maximum\n",
    "            item = id_champ_map[entry['championId']]['champion']\n",
    "            ratings.append([key, item, score])\n",
    "            used.append(item)\n",
    "\n",
    "        for champ in cols:\n",
    "            if champ not in used:\n",
    "                ratings.append([key, champ, 0])\n",
    "    else:\n",
    "        continue\n",
    "        \n",
    "print(len(ratings))\n",
    "with open('../data/train_data_surprise.csv', 'w', newline='') as f:\n",
    "    writer = csv.writer(f)\n",
    "    writer.writerows(ratings)"
   ]
  },
  {
   "cell_type": "code",
   "execution_count": 17,
   "id": "55da7f41",
   "metadata": {},
   "outputs": [],
   "source": [
    "df = pd.read_csv('../data/mastery.csv')\n",
    "n = pd.read_csv('../data/names.csv')\n",
    "\n",
    "s = df.sum().sort_values()"
   ]
  },
  {
   "cell_type": "code",
   "execution_count": 34,
   "id": "61ef29ee",
   "metadata": {},
   "outputs": [
    {
     "name": "stdout",
     "output_type": "stream",
     "text": [
      "Lucian       21.460632\n",
      "Riven        21.731619\n",
      "Kaisa        22.170346\n",
      "Pyke         22.938771\n",
      "Darius       23.495518\n",
      "Lux          24.648049\n",
      "Sylas        26.490796\n",
      "Vayne        27.614882\n",
      "Jhin         27.689451\n",
      "Ekko         28.259758\n",
      "Katarina     29.704740\n",
      "MasterYi     30.174990\n",
      "LeeSin       32.635071\n",
      "Kayn         33.965952\n",
      "Irelia       34.190233\n",
      "Ezreal       39.038227\n",
      "Yone         40.243341\n",
      "Akali        47.916226\n",
      "Zed          62.517101\n",
      "Yasuo       296.000000\n",
      "dtype: float64\n"
     ]
    }
   ],
   "source": [
    "sel = df.loc[(df['Yasuo']==1)]\n",
    "sel = sel.sum().sort_values()\n",
    "print(sel.tail(20))"
   ]
  },
  {
   "cell_type": "code",
   "execution_count": null,
   "id": "a13b898f",
   "metadata": {},
   "outputs": [],
   "source": []
  },
  {
   "cell_type": "code",
   "execution_count": null,
   "id": "fac6a4a4",
   "metadata": {},
   "outputs": [],
   "source": []
  }
 ],
 "metadata": {
  "kernelspec": {
   "display_name": "Python 3",
   "language": "python",
   "name": "python3"
  },
  "language_info": {
   "codemirror_mode": {
    "name": "ipython",
    "version": 3
   },
   "file_extension": ".py",
   "mimetype": "text/x-python",
   "name": "python",
   "nbconvert_exporter": "python",
   "pygments_lexer": "ipython3",
   "version": "3.8.8"
  }
 },
 "nbformat": 4,
 "nbformat_minor": 5
}
