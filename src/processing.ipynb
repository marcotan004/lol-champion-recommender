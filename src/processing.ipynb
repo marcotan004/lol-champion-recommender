{
 "cells": [
  {
   "cell_type": "code",
   "execution_count": 1,
   "id": "b5a9d64b",
   "metadata": {},
   "outputs": [],
   "source": [
    "import csv\n",
    "import json\n",
    "import requests\n",
    "import numpy as np\n",
    "import pandas as pd\n",
    "import os"
   ]
  },
  {
   "cell_type": "markdown",
   "id": "0570e754",
   "metadata": {},
   "source": [
    "## Load data and map champion ID to Name and alphabetical index"
   ]
  },
  {
   "cell_type": "code",
   "execution_count": 2,
   "id": "dd6142e0",
   "metadata": {},
   "outputs": [],
   "source": [
    "filename = '../data/champion.json'\n",
    "with open(filename, 'r') as f:\n",
    "    champ_data = json.load(f)\n",
    "\n",
    "# contains index of championId and name\n",
    "id_champ_map = {}\n",
    "champion_list = []\n",
    "for i, c in enumerate(champ_data['data'].keys()):\n",
    "    id_champ_map[int(champ_data['data'][c]['key'])] = {'champion': champ_data['data'][c]['id'], 'index': i}\n",
    "    champion_list.append(champ_data['data'][c]['id'])"
   ]
  },
  {
   "cell_type": "markdown",
   "id": "3fa76e47",
   "metadata": {},
   "source": [
    "## Save data in matrix format for analysis and df"
   ]
  },
  {
   "cell_type": "code",
   "execution_count": 3,
   "id": "15cdf205",
   "metadata": {},
   "outputs": [
    {
     "name": "stdout",
     "output_type": "stream",
     "text": [
      "[[7.61825457e-02 5.18862906e-02 3.54358939e-03 ... 4.90366155e-04\n",
      "  6.36134434e-02 1.36423565e-02]\n",
      " [1.00000000e+00 9.05759162e-02 3.69982548e-02 ... 0.00000000e+00\n",
      "  0.00000000e+00 9.16230366e-02]\n",
      " [2.53620687e-02 3.83951623e-02 3.18648093e-02 ... 0.00000000e+00\n",
      "  0.00000000e+00 1.80861786e-03]\n",
      " ...\n",
      " [0.00000000e+00 0.00000000e+00 6.89265682e-03 ... 0.00000000e+00\n",
      "  0.00000000e+00 0.00000000e+00]\n",
      " [2.14366935e-03 1.85969249e-02 3.31635932e-03 ... 2.61314085e-02\n",
      "  2.96435458e-03 5.48415484e-02]\n",
      " [0.00000000e+00 2.65633647e-04 3.78527947e-03 ... 0.00000000e+00\n",
      "  0.00000000e+00 0.00000000e+00]]\n"
     ]
    }
   ],
   "source": [
    "filename = '../data/complete_mastery_info.json'\n",
    "\n",
    "with open(filename, 'r') as f:\n",
    "    data = json.load(f)\n",
    "\n",
    "names = []\n",
    "r = np.zeros((len(data.keys()), len(champion_list)))\n",
    "\n",
    "for i, key in enumerate(data.keys()):\n",
    "    names.append([key])\n",
    "    for j, entry in enumerate(data[key]):\n",
    "        if j == 0:\n",
    "            maximum = entry['championPoints']\n",
    "        r[i][id_champ_map[entry['championId']]['index']] = entry['championPoints']/maximum\n",
    "\n",
    "        fields = ['player_id']\n",
    "print(r)\n",
    "with open('../data/names.csv', 'w') as f:\n",
    "    write = csv.writer(f)\n",
    "     \n",
    "    write.writerow(fields)\n",
    "    write.writerows(names)\n",
    "\n",
    "np.savetxt('../data/mastery.csv', r, delimiter=',', header=','.join(champion_list))"
   ]
  },
  {
   "cell_type": "markdown",
   "id": "2ec086e0",
   "metadata": {},
   "source": [
    "## Save data in surprise format to load into surprise\n",
    "The dataset has 5326 users from the ranked pool. For each user, the dataset contains the user's 25 most played champions and each champion's corresponding mastery score for the user. Champion mastery score is highly correlated with playtime.\n",
    "\n",
    "I loaded in champion mastery data and set each user's highest played champion's mastery score to 1. I then divide every other champion's mastery point score by the highest played champion's mastery point score. We assume that any champion after the 25th has a rating of 0. This is a crude approximation since the mean of the 25th highest mastery score was 0.09. The rating scale is therefore 0 to 1."
   ]
  },
  {
   "cell_type": "code",
   "execution_count": 4,
   "id": "68b3fabd",
   "metadata": {},
   "outputs": [
    {
     "name": "stdout",
     "output_type": "stream",
     "text": [
      "Mean of 25th highest champion score: 0.04109415751001418\n"
     ]
    }
   ],
   "source": [
    "filename = '../data/complete_mastery_info.json'\n",
    "\n",
    "with open(filename, 'r') as f:\n",
    "    data = json.load(f)\n",
    "\n",
    "ratings = [] # list of items\n",
    "total = 0\n",
    "count = 0\n",
    "for i, key in enumerate(data.keys()):\n",
    "    for j, entry in enumerate(data[key]):\n",
    "        if j == 0:\n",
    "            # sorted in descending order\n",
    "            maximum = entry['championPoints']\n",
    "        if j == 50:\n",
    "            total += entry['championPoints']/maximum\n",
    "            count += 1\n",
    "\n",
    "print(f'Mean of 25th highest champion score: {total/count}')"
   ]
  },
  {
   "cell_type": "code",
   "execution_count": 5,
   "id": "c0f98ee0",
   "metadata": {},
   "outputs": [
    {
     "name": "stdout",
     "output_type": "stream",
     "text": [
      "users: 2896\n",
      "ratings: 478005\n"
     ]
    }
   ],
   "source": [
    "filename = '../data/complete_mastery_info.json'\n",
    "\n",
    "with open(filename, 'r') as f:\n",
    "    data = json.load(f)\n",
    "\n",
    "ratings = [] # list of items\n",
    "r = np.zeros((len(data.keys()), len(champion_list)))\n",
    "\n",
    "for i, key in enumerate(data.keys()):\n",
    "    used = []\n",
    "    for j, entry in enumerate(data[key]):\n",
    "        if j == 0:\n",
    "            # sorted in descending order\n",
    "            maximum = entry['championPoints']\n",
    "        score = entry['championPoints']/maximum\n",
    "        item = id_champ_map[entry['championId']]['champion']\n",
    "        ratings.append([key, item, score])\n",
    "        used.append(item)\n",
    "    # set unknown champion IDs to zero\n",
    "    for champ in champion_list:\n",
    "        if champ not in used:\n",
    "            ratings.append([key, champ, 0])\n",
    "    else:\n",
    "        continue\n",
    "\n",
    "print(f'users: {i}')\n",
    "print(f'ratings: {len(ratings)}')\n",
    "with open('../data/surprise_data_full.csv', 'w', newline='') as f:\n",
    "    writer = csv.writer(f)\n",
    "    writer.writerows(ratings)"
   ]
  },
  {
   "cell_type": "code",
   "execution_count": 6,
   "id": "eb7a62a5",
   "metadata": {},
   "outputs": [
    {
     "name": "stdout",
     "output_type": "stream",
     "text": [
      "users: 750\n",
      "ratings: 123750\n"
     ]
    }
   ],
   "source": [
    "# save first 750 users for quicker analysis\n",
    "\n",
    "filename = '../data/complete_mastery_info.json'\n",
    "\n",
    "with open(filename, 'r') as f:\n",
    "    data = json.load(f)\n",
    "\n",
    "ratings = [] # list of items\n",
    "r = np.zeros((len(data.keys()), len(champion_list)))\n",
    "\n",
    "for i, key in enumerate(data.keys()):\n",
    "    if i >= 750:\n",
    "        break\n",
    "    used = []\n",
    "    for j, entry in enumerate(data[key]):\n",
    "        if j == 0:\n",
    "            # sorted in descending order\n",
    "            maximum = entry['championPoints']\n",
    "        score = entry['championPoints']/maximum\n",
    "        item = id_champ_map[entry['championId']]['champion']\n",
    "        ratings.append([key, item, score])\n",
    "        used.append(item)\n",
    "    # set unknown champion IDs to zero\n",
    "    for champ in champion_list:\n",
    "        if champ not in used:\n",
    "            ratings.append([key, champ, 0])\n",
    "    else:\n",
    "        continue\n",
    "\n",
    "print(f'users: {i}')\n",
    "print(f'ratings: {len(ratings)}')\n",
    "with open('../data/surprise_data_750.csv', 'w', newline='') as f:\n",
    "    writer = csv.writer(f)\n",
    "    writer.writerows(ratings)"
   ]
  },
  {
   "cell_type": "code",
   "execution_count": null,
   "id": "c86033a3",
   "metadata": {},
   "outputs": [],
   "source": []
  }
 ],
 "metadata": {
  "kernelspec": {
   "display_name": "Python 3",
   "language": "python",
   "name": "python3"
  },
  "language_info": {
   "codemirror_mode": {
    "name": "ipython",
    "version": 3
   },
   "file_extension": ".py",
   "mimetype": "text/x-python",
   "name": "python",
   "nbconvert_exporter": "python",
   "pygments_lexer": "ipython3",
   "version": "3.8.8"
  }
 },
 "nbformat": 4,
 "nbformat_minor": 5
}
