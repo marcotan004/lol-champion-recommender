{
 "cells": [
  {
   "cell_type": "code",
   "execution_count": 1,
   "id": "7ac21a4c",
   "metadata": {},
   "outputs": [],
   "source": [
    "import csv\n",
    "import json\n",
    "import requests\n",
    "import numpy as np\n",
    "import pandas as pd\n",
    "import matplotlib.pyplot as plt\n",
    "import pprint\n",
    "import os\n",
    "import random\n",
    "\n",
    "from collections import defaultdict\n",
    "from surprise import BaselineOnly, Dataset, Reader, accuracy, SVD, SVDpp, NormalPredictor, NMF, SlopeOne, CoClustering, KNNBasic, KNNWithMeans, KNNBaseline, dump\n",
    "from surprise.model_selection import cross_validate, train_test_split "
   ]
  },
  {
   "cell_type": "markdown",
   "id": "23e89c4c",
   "metadata": {},
   "source": [
    "# Test various models for our recommendation system"
   ]
  },
  {
   "cell_type": "markdown",
   "id": "559df6c9",
   "metadata": {},
   "source": [
    "## Test on sample data\n",
    "\n",
    "Make sure surprise is working"
   ]
  },
  {
   "cell_type": "code",
   "execution_count": 2,
   "id": "b2495ad3",
   "metadata": {},
   "outputs": [
    {
     "name": "stdout",
     "output_type": "stream",
     "text": [
      "Evaluating RMSE, MAE, FCP of algorithm SVD on 5 split(s).\n",
      "\n",
      "                  Fold 1  Fold 2  Fold 3  Fold 4  Fold 5  Mean    Std     \n",
      "RMSE (testset)    0.9269  0.9361  0.9387  0.9388  0.9378  0.9356  0.0045  \n",
      "MAE (testset)     0.7322  0.7379  0.7395  0.7379  0.7396  0.7374  0.0027  \n",
      "FCP (testset)     0.7008  0.7090  0.6927  0.6943  0.6978  0.6989  0.0058  \n",
      "Fit time          0.80    0.80    0.82    0.80    0.85    0.82    0.02    \n",
      "Test time         0.13    0.17    0.17    0.13    0.17    0.15    0.02    \n"
     ]
    },
    {
     "data": {
      "text/plain": [
       "{'test_rmse': array([0.92687412, 0.93606738, 0.93868011, 0.93875038, 0.93781348]),\n",
       " 'test_mae': array([0.73224607, 0.73790002, 0.73953471, 0.73790952, 0.73962704]),\n",
       " 'test_fcp': array([0.70083318, 0.70902896, 0.69274535, 0.69425765, 0.69781966]),\n",
       " 'fit_time': (0.8011260032653809,\n",
       "  0.8025648593902588,\n",
       "  0.8191921710968018,\n",
       "  0.8045997619628906,\n",
       "  0.847977876663208),\n",
       " 'test_time': (0.13108301162719727,\n",
       "  0.17012310028076172,\n",
       "  0.1702570915222168,\n",
       "  0.1306447982788086,\n",
       "  0.16532683372497559)}"
      ]
     },
     "execution_count": 2,
     "metadata": {},
     "output_type": "execute_result"
    }
   ],
   "source": [
    "data = Dataset.load_builtin('ml-100k')\n",
    "algo = SVD()\n",
    "cross_validate(algo, data, measures=['RMSE', 'MAE', 'FCP'], cv=5, verbose=True)"
   ]
  },
  {
   "cell_type": "markdown",
   "id": "dbe32a0b",
   "metadata": {},
   "source": [
    "## Test KNNWithMeans settings\n",
    "\n",
    "Test RMSE and MAE values against similarity metrics and against user-user vs. item-item comparisions. Cosine was not tested since it faced issues with the 0 values in the dataset."
   ]
  },
  {
   "cell_type": "code",
   "execution_count": 3,
   "id": "9259d1b4",
   "metadata": {},
   "outputs": [],
   "source": [
    "all_champs = os.path.expanduser('../data/surprise_data_full.csv')\n",
    "users_750 = os.path.expanduser('../data/surprise_data_750.csv')\n",
    "\n",
    "file_path = users_750\n",
    "reader = Reader(sep=\",\", rating_scale=(0,1))\n",
    "data = Dataset.load_from_file(file_path, reader)"
   ]
  },
  {
   "cell_type": "code",
   "execution_count": null,
   "id": "7fc72160",
   "metadata": {},
   "outputs": [],
   "source": [
    "options = ['pearson_baseline', 'MSD', 'pearson']\n",
    "value = [True, False]\n",
    "\n",
    "results = {}\n",
    "for opt in options:\n",
    "    for val in value:            \n",
    "        sim_options = {\n",
    "            \"name\": opt,\n",
    "            \"user_based\": val\n",
    "        }\n",
    "\n",
    "        algo = KNNWithMeans(sim_options=sim_options)\n",
    "        res = cross_validate(algo, data, measures=['RMSE', 'MAE', 'FCP'], cv=3, verbose=False)\n",
    "\n",
    "        if val:\n",
    "            entry = opt + \" (T)\"\n",
    "        else:\n",
    "            entry = opt + \" (F)\"\n",
    "\n",
    "        results[entry] = {\"RMSE\": res['test_rmse'].mean(), \"MAE\": res['test_mae'].mean(), 'FCP': res['test_fcp'].mean(), 'Test Time': res['test_time'][-1]}"
   ]
  },
  {
   "cell_type": "markdown",
   "id": "d93fe7c9",
   "metadata": {},
   "source": [
    "User Based comparision took 3x longer than Item based similarity comparision. FCP seems to be maximized and RMSE/MAE seems to be minimized when using pearson_baseline."
   ]
  },
  {
   "cell_type": "code",
   "execution_count": 5,
   "id": "553a66d7",
   "metadata": {},
   "outputs": [
    {
     "name": "stdout",
     "output_type": "stream",
     "text": [
      "{'MSD (F)': {'FCP': 0.6624841662135398,\n",
      "             'MAE': 0.05977096656182945,\n",
      "             'RMSE': 0.12074413775865696,\n",
      "             'Test Time': 6.120896100997925},\n",
      " 'MSD (T)': {'FCP': 0.644606311236349,\n",
      "             'MAE': 0.06261393404456854,\n",
      "             'RMSE': 0.12032552701217554,\n",
      "             'Test Time': 18.25139832496643},\n",
      " 'pearson (F)': {'FCP': 0.6748867740613481,\n",
      "                 'MAE': 0.05583031313124506,\n",
      "                 'RMSE': 0.11706185636355182,\n",
      "                 'Test Time': 5.729834079742432},\n",
      " 'pearson (T)': {'FCP': 0.661433571260926,\n",
      "                 'MAE': 0.056293001953126094,\n",
      "                 'RMSE': 0.11691082874104085,\n",
      "                 'Test Time': 17.186127185821533},\n",
      " 'pearson_baseline (F)': {'FCP': 0.6794465079962381,\n",
      "                          'MAE': 0.05412229796083945,\n",
      "                          'RMSE': 0.11562225802796738,\n",
      "                          'Test Time': 5.634160757064819},\n",
      " 'pearson_baseline (T)': {'FCP': 0.6698827025977927,\n",
      "                          'MAE': 0.05618933366074811,\n",
      "                          'RMSE': 0.11659259765646408,\n",
      "                          'Test Time': 17.532488107681274}}\n"
     ]
    }
   ],
   "source": [
    "pprint.pprint(results)"
   ]
  },
  {
   "cell_type": "code",
   "execution_count": 6,
   "id": "1ad65b1a",
   "metadata": {
    "collapsed": true
   },
   "outputs": [
    {
     "name": "stdout",
     "output_type": "stream",
     "text": [
      "Estimating biases using als...\n",
      "Computing the pearson_baseline similarity matrix...\n",
      "Done computing similarity matrix.\n",
      "Estimating biases using als...\n",
      "Computing the pearson_baseline similarity matrix...\n",
      "Done computing similarity matrix.\n",
      "Estimating biases using als...\n",
      "Computing the pearson_baseline similarity matrix...\n",
      "Done computing similarity matrix.\n",
      "Estimating biases using als...\n",
      "Computing the pearson_baseline similarity matrix...\n",
      "Done computing similarity matrix.\n",
      "Estimating biases using als...\n",
      "Computing the pearson_baseline similarity matrix...\n",
      "Done computing similarity matrix.\n",
      "Estimating biases using als...\n",
      "Computing the pearson_baseline similarity matrix...\n",
      "Done computing similarity matrix.\n",
      "Estimating biases using als...\n",
      "Computing the pearson_baseline similarity matrix...\n",
      "Done computing similarity matrix.\n",
      "Estimating biases using als...\n",
      "Computing the pearson_baseline similarity matrix...\n",
      "Done computing similarity matrix.\n",
      "Estimating biases using als...\n",
      "Computing the pearson_baseline similarity matrix...\n",
      "Done computing similarity matrix.\n",
      "Estimating biases using als...\n",
      "Computing the pearson_baseline similarity matrix...\n",
      "Done computing similarity matrix.\n",
      "Estimating biases using als...\n",
      "Computing the pearson_baseline similarity matrix...\n",
      "Done computing similarity matrix.\n",
      "Estimating biases using als...\n",
      "Computing the pearson_baseline similarity matrix...\n",
      "Done computing similarity matrix.\n",
      "Estimating biases using als...\n",
      "Computing the pearson_baseline similarity matrix...\n",
      "Done computing similarity matrix.\n",
      "Estimating biases using als...\n",
      "Computing the pearson_baseline similarity matrix...\n",
      "Done computing similarity matrix.\n",
      "Estimating biases using als...\n",
      "Computing the pearson_baseline similarity matrix...\n",
      "Done computing similarity matrix.\n",
      "Estimating biases using als...\n",
      "Computing the pearson_baseline similarity matrix...\n",
      "Done computing similarity matrix.\n",
      "Estimating biases using als...\n",
      "Computing the pearson_baseline similarity matrix...\n",
      "Done computing similarity matrix.\n",
      "Estimating biases using als...\n",
      "Computing the pearson_baseline similarity matrix...\n",
      "Done computing similarity matrix.\n",
      "Estimating biases using als...\n",
      "Computing the pearson_baseline similarity matrix...\n",
      "Done computing similarity matrix.\n",
      "Estimating biases using als...\n",
      "Computing the pearson_baseline similarity matrix...\n",
      "Done computing similarity matrix.\n",
      "Estimating biases using als...\n",
      "Computing the pearson_baseline similarity matrix...\n",
      "Done computing similarity matrix.\n",
      "Estimating biases using als...\n",
      "Computing the pearson_baseline similarity matrix...\n",
      "Done computing similarity matrix.\n",
      "Estimating biases using als...\n",
      "Computing the pearson_baseline similarity matrix...\n",
      "Done computing similarity matrix.\n",
      "Estimating biases using als...\n",
      "Computing the pearson_baseline similarity matrix...\n",
      "Done computing similarity matrix.\n",
      "Estimating biases using als...\n",
      "Computing the pearson_baseline similarity matrix...\n",
      "Done computing similarity matrix.\n",
      "Estimating biases using als...\n",
      "Computing the pearson_baseline similarity matrix...\n",
      "Done computing similarity matrix.\n",
      "Estimating biases using als...\n",
      "Computing the pearson_baseline similarity matrix...\n",
      "Done computing similarity matrix.\n",
      "Estimating biases using als...\n",
      "Computing the pearson_baseline similarity matrix...\n",
      "Done computing similarity matrix.\n",
      "Estimating biases using als...\n",
      "Computing the pearson_baseline similarity matrix...\n",
      "Done computing similarity matrix.\n",
      "Estimating biases using als...\n",
      "Computing the pearson_baseline similarity matrix...\n",
      "Done computing similarity matrix.\n",
      "Estimating biases using als...\n",
      "Computing the pearson_baseline similarity matrix...\n",
      "Done computing similarity matrix.\n",
      "Estimating biases using als...\n",
      "Computing the pearson_baseline similarity matrix...\n",
      "Done computing similarity matrix.\n",
      "Estimating biases using als...\n",
      "Computing the pearson_baseline similarity matrix...\n",
      "Done computing similarity matrix.\n",
      "Estimating biases using als...\n",
      "Computing the pearson_baseline similarity matrix...\n",
      "Done computing similarity matrix.\n",
      "Estimating biases using als...\n",
      "Computing the pearson_baseline similarity matrix...\n",
      "Done computing similarity matrix.\n",
      "Estimating biases using als...\n",
      "Computing the pearson_baseline similarity matrix...\n",
      "Done computing similarity matrix.\n",
      "Estimating biases using als...\n",
      "Computing the pearson_baseline similarity matrix...\n",
      "Done computing similarity matrix.\n",
      "Estimating biases using als...\n",
      "Computing the pearson_baseline similarity matrix...\n",
      "Done computing similarity matrix.\n",
      "Estimating biases using als...\n",
      "Computing the pearson_baseline similarity matrix...\n",
      "Done computing similarity matrix.\n",
      "Estimating biases using als...\n",
      "Computing the pearson_baseline similarity matrix...\n",
      "Done computing similarity matrix.\n",
      "Estimating biases using als...\n",
      "Computing the pearson_baseline similarity matrix...\n",
      "Done computing similarity matrix.\n",
      "Estimating biases using als...\n",
      "Computing the pearson_baseline similarity matrix...\n",
      "Done computing similarity matrix.\n",
      "Estimating biases using als...\n",
      "Computing the pearson_baseline similarity matrix...\n",
      "Done computing similarity matrix.\n",
      "Estimating biases using als...\n",
      "Computing the pearson_baseline similarity matrix...\n",
      "Done computing similarity matrix.\n",
      "Estimating biases using als...\n",
      "Computing the pearson_baseline similarity matrix...\n",
      "Done computing similarity matrix.\n",
      "Estimating biases using als...\n",
      "Computing the pearson_baseline similarity matrix...\n",
      "Done computing similarity matrix.\n",
      "Estimating biases using als...\n",
      "Computing the pearson_baseline similarity matrix...\n",
      "Done computing similarity matrix.\n",
      "Estimating biases using als...\n",
      "Computing the pearson_baseline similarity matrix...\n",
      "Done computing similarity matrix.\n",
      "Estimating biases using als...\n",
      "Computing the pearson_baseline similarity matrix...\n",
      "Done computing similarity matrix.\n",
      "Estimating biases using als...\n",
      "Computing the pearson_baseline similarity matrix...\n",
      "Done computing similarity matrix.\n",
      "Estimating biases using als...\n",
      "Computing the pearson_baseline similarity matrix...\n",
      "Done computing similarity matrix.\n",
      "Estimating biases using als...\n",
      "Computing the pearson_baseline similarity matrix...\n",
      "Done computing similarity matrix.\n",
      "Estimating biases using als...\n",
      "Computing the pearson_baseline similarity matrix...\n",
      "Done computing similarity matrix.\n",
      "Estimating biases using als...\n",
      "Computing the pearson_baseline similarity matrix...\n",
      "Done computing similarity matrix.\n",
      "Estimating biases using als...\n",
      "Computing the pearson_baseline similarity matrix...\n",
      "Done computing similarity matrix.\n"
     ]
    }
   ],
   "source": [
    "x = np.arange(5, 60, 5)\n",
    "y = np.zeros_like(x, dtype=float)\n",
    "\n",
    "sim_options = {\n",
    "    \"name\": \"pearson_baseline\",\n",
    "    \"user_based\": False\n",
    "}\n",
    "\n",
    "for i, n in enumerate(x):\n",
    "    algo = KNNWithMeans(k=n, sim_options=sim_options)\n",
    "    y[i] = cross_validate(algo, data, measures=['RMSE', 'MAE'], cv=5, verbose=False)['test_rmse'].mean() "
   ]
  },
  {
   "cell_type": "code",
   "execution_count": 7,
   "id": "7b6a37f5",
   "metadata": {},
   "outputs": [
    {
     "data": {
      "text/plain": [
       "Text(0.5, 0, 'k neighbors')"
      ]
     },
     "execution_count": 7,
     "metadata": {},
     "output_type": "execute_result"
    },
    {
     "data": {
      "image/png": "[encoded data removed]",
      "text/plain": [
       "<Figure size 432x288 with 1 Axes>"
      ]
     },
     "metadata": {
      "needs_background": "light"
     },
     "output_type": "display_data"
    }
   ],
   "source": [
    "plt.plot(x,y)\n",
    "plt.title(\"RMSE vs. k neighbors\")\n",
    "plt.ylabel(\"RMSE\")\n",
    "plt.xlabel(\"k neighbors\")\n",
    "\n",
    "# 25 seems to be where the dropoff stops"
   ]
  },
  {
   "cell_type": "markdown",
   "id": "2c9a1096",
   "metadata": {},
   "source": [
    "## Test effect of N Factors on RMSE for N Factors in SVD"
   ]
  },
  {
   "cell_type": "code",
   "execution_count": 8,
   "id": "772a09a8",
   "metadata": {
    "collapsed": true
   },
   "outputs": [
    {
     "name": "stdout",
     "output_type": "stream",
     "text": [
      "2\n",
      "7\n",
      "12\n",
      "17\n",
      "22\n",
      "27\n",
      "32\n",
      "37\n",
      "42\n",
      "47\n",
      "52\n",
      "57\n",
      "62\n",
      "67\n",
      "72\n",
      "77\n",
      "82\n",
      "87\n",
      "92\n",
      "97\n",
      "102\n",
      "107\n",
      "112\n",
      "117\n",
      "122\n",
      "127\n",
      "132\n",
      "137\n",
      "142\n",
      "147\n",
      "152\n",
      "157\n"
     ]
    }
   ],
   "source": [
    "x = np.arange(2, 161, 5)\n",
    "y = np.zeros_like(x, dtype=float)\n",
    "for i, n in enumerate(x):\n",
    "    algo = SVD(n_factors=n)\n",
    "    y[i] = cross_validate(algo, data, measures=['RMSE', 'MAE'], cv=5, verbose=False)['test_rmse'].mean() "
   ]
  },
  {
   "cell_type": "code",
   "execution_count": 9,
   "id": "090a6e85",
   "metadata": {},
   "outputs": [
    {
     "data": {
      "text/plain": [
       "Text(0.5, 0, 'N factors')"
      ]
     },
     "execution_count": 9,
     "metadata": {},
     "output_type": "execute_result"
    },
    {
     "data": {
      "image/png": "[encoded data removed]",
      "text/plain": [
       "<Figure size 432x288 with 1 Axes>"
      ]
     },
     "metadata": {
      "needs_background": "light"
     },
     "output_type": "display_data"
    }
   ],
   "source": [
    "plt.plot(x,y)\n",
    "plt.title(\"RMSE vs. N factors\")\n",
    "plt.ylabel(\"RMSE\")\n",
    "plt.xlabel(\"N factors\")\n",
    "\n",
    "# RMSE increases slightly with N factors, however at the lowest level it still gets outperformed by kNN"
   ]
  },
  {
   "cell_type": "markdown",
   "id": "ad3120ac",
   "metadata": {},
   "source": [
    "## Test available classifiers on champion data\n",
    "\n",
    "SVD - predict a user's rating of a given champion, accounting for their individual bias.\n",
    "\n",
    "SVD++ - extension of SVD, accounting for implicit ratings, which accounts for the fact that a user rated item j without accouting for the given value (the user looked at this value)\n",
    "\n",
    "Baseline - predicts baseline estimate for given user and item\n",
    "\n",
    "Random - give a random rating based on distribution of training set\n",
    "\n",
    "NMF - based on Non-negative Matrix Factorization, similar to SVD - algorithm highly dependent on initial values\n",
    "\n",
    "Slope One - predict users preference for particular item based on preferences of other users\n",
    "\n",
    "Co-clustering - users and items assigned clusters\n",
    "\n",
    "k-NN Basic - aggregate of neighbors\n",
    "\n",
    "Centered k-NN - aggregate of neighbors, but the mean rating of each user is accounted for\n",
    "\n",
    "k-NN baseline - k-nn, but a baseline rating is accounted for"
   ]
  },
  {
   "cell_type": "code",
   "execution_count": 10,
   "id": "5309164e",
   "metadata": {
    "collapsed": true
   },
   "outputs": [
    {
     "name": "stdout",
     "output_type": "stream",
     "text": [
      "Baseline\n",
      "Estimating biases using als...\n",
      "Estimating biases using als...\n",
      "Estimating biases using als...\n",
      "Estimating biases using als...\n",
      "Estimating biases using als...\n",
      "SVD\n",
      "SVDpp\n",
      "Random\n",
      "NMF\n",
      "Slope One\n",
      "Co-clustering\n",
      "KNN\n",
      "Estimating biases using als...\n",
      "Computing the pearson_baseline similarity matrix...\n",
      "Done computing similarity matrix.\n",
      "Estimating biases using als...\n",
      "Computing the pearson_baseline similarity matrix...\n",
      "Done computing similarity matrix.\n",
      "Estimating biases using als...\n",
      "Computing the pearson_baseline similarity matrix...\n",
      "Done computing similarity matrix.\n",
      "Estimating biases using als...\n",
      "Computing the pearson_baseline similarity matrix...\n",
      "Done computing similarity matrix.\n",
      "Estimating biases using als...\n",
      "Computing the pearson_baseline similarity matrix...\n",
      "Done computing similarity matrix.\n",
      "KNN With Means\n",
      "Estimating biases using als...\n",
      "Computing the pearson_baseline similarity matrix...\n",
      "Done computing similarity matrix.\n",
      "Estimating biases using als...\n",
      "Computing the pearson_baseline similarity matrix...\n",
      "Done computing similarity matrix.\n",
      "Estimating biases using als...\n",
      "Computing the pearson_baseline similarity matrix...\n",
      "Done computing similarity matrix.\n",
      "Estimating biases using als...\n",
      "Computing the pearson_baseline similarity matrix...\n",
      "Done computing similarity matrix.\n",
      "Estimating biases using als...\n",
      "Computing the pearson_baseline similarity matrix...\n",
      "Done computing similarity matrix.\n",
      "KNN Baseline\n",
      "Estimating biases using als...\n",
      "Computing the pearson_baseline similarity matrix...\n",
      "Done computing similarity matrix.\n",
      "Estimating biases using als...\n",
      "Computing the pearson_baseline similarity matrix...\n",
      "Done computing similarity matrix.\n",
      "Estimating biases using als...\n",
      "Computing the pearson_baseline similarity matrix...\n",
      "Done computing similarity matrix.\n",
      "Estimating biases using als...\n",
      "Computing the pearson_baseline similarity matrix...\n",
      "Done computing similarity matrix.\n",
      "Estimating biases using als...\n",
      "Computing the pearson_baseline similarity matrix...\n",
      "Done computing similarity matrix.\n"
     ]
    }
   ],
   "source": [
    "sim_options = {\n",
    "    \"name\": \"pearson_baseline\",\n",
    "    \"user_based\": False\n",
    "}\n",
    "\n",
    "k = 25\n",
    "classifiers = [BaselineOnly(), SVD(), SVDpp(), NormalPredictor(), NMF(), \\\n",
    "               SlopeOne(), CoClustering(n_cltr_u = 3, n_cltr_i = 3), KNNBasic(k=k, sim_options=sim_options), \\\n",
    "               KNNWithMeans(k=k, sim_options=sim_options), KNNBaseline(k=k, sim_options=sim_options)]\n",
    "\n",
    "labels = ['Baseline', 'SVD', 'SVDpp', 'Random', 'NMF', 'Slope One', 'Co-clustering', 'KNN', 'KNN With Means','KNN Baseline']\n",
    "\n",
    "results = {}\n",
    "for (cls, tag) in zip(classifiers, labels):\n",
    "    print(tag)\n",
    "    res = cross_validate(cls, data, measures=['RMSE', 'MAE', 'FCP'], cv=5, verbose=False)\n",
    "    results[tag] = results[entry] = {\"RMSE\": res['test_rmse'].mean(), \"MAE\": res['test_mae'].mean(), 'FCP': res['test_fcp'].mean(), 'Test Time': res['test_time'][-1]}"
   ]
  },
  {
   "cell_type": "markdown",
   "id": "50eb6b57",
   "metadata": {},
   "source": [
    "### Analysis\n",
    "\n",
    "KNN outperforms the other algorithms by every metric, with KNN With Means and KNNBaseline performing the best out of the KNN algorithms. NMF, Baseline, and SVD/SVDpp, SlopeOne seem to be a tier below kNN."
   ]
  },
  {
   "cell_type": "code",
   "execution_count": 11,
   "id": "853c103e",
   "metadata": {},
   "outputs": [
    {
     "name": "stdout",
     "output_type": "stream",
     "text": [
      "{'Baseline': {'FCP': 0.6504430447834079,\n",
      "              'MAE': 0.059197717615500745,\n",
      "              'RMSE': 0.12147057421538861,\n",
      "              'Test Time': 0.09508299827575684},\n",
      " 'Co-clustering': {'FCP': 0.4563541982479576,\n",
      "                   'MAE': 0.0536968552884455,\n",
      "                   'RMSE': 0.13851173890375196,\n",
      "                   'Test Time': 0.11064982414245605},\n",
      " 'KNN': {'FCP': 0.6787553158710057,\n",
      "         'MAE': 0.053658270144609756,\n",
      "         'RMSE': 0.11663027614015394,\n",
      "         'Test Time': 3.2376558780670166},\n",
      " 'KNN Baseline': {'FCP': 0.6814396250614774,\n",
      "                  'MAE': 0.05341711493884475,\n",
      "                  'RMSE': 0.11494257270935786,\n",
      "                  'Test Time': 3.635308027267456},\n",
      " 'KNN With Means': {'FCP': 0.6807258011126373,\n",
      "                    'MAE': 0.05344960405968406,\n",
      "                    'RMSE': 0.11480651942325248,\n",
      "                    'Test Time': 3.136636972427368},\n",
      " 'NMF': {'FCP': 0.656728708763032,\n",
      "         'MAE': 0.049622701149402496,\n",
      "         'RMSE': 0.13360675748148185,\n",
      "         'Test Time': 0.21120309829711914},\n",
      " 'Random': {'FCP': 0.44354257349729254,\n",
      "            'MAE': 0.10177777341302927,\n",
      "            'RMSE': 0.16330942971579548,\n",
      "            'Test Time': 0.14414381980895996},\n",
      " 'SVD': {'FCP': 0.6180795749930817,\n",
      "         'MAE': 0.060598474900466215,\n",
      "         'RMSE': 0.12250609293982107,\n",
      "         'Test Time': 0.15376019477844238},\n",
      " 'SVDpp': {'FCP': 0.6405491717128986,\n",
      "           'MAE': 0.05930039461100112,\n",
      "           'RMSE': 0.12167523500175144,\n",
      "           'Test Time': 3.1398308277130127},\n",
      " 'Slope One': {'FCP': 0.6107589169264952,\n",
      "               'MAE': 0.06150428475227019,\n",
      "               'RMSE': 0.12449234634960371,\n",
      "               'Test Time': 2.2500250339508057},\n",
      " 'pearson (F)': {'FCP': 0.6814396250614774,\n",
      "                 'MAE': 0.05341711493884475,\n",
      "                 'RMSE': 0.11494257270935786,\n",
      "                 'Test Time': 3.635308027267456}}\n"
     ]
    }
   ],
   "source": [
    "pprint.pprint(results)"
   ]
  },
  {
   "cell_type": "markdown",
   "id": "479d568f",
   "metadata": {},
   "source": [
    "## Load in Champion Info"
   ]
  },
  {
   "cell_type": "code",
   "execution_count": 12,
   "id": "d7eb76a0",
   "metadata": {},
   "outputs": [],
   "source": [
    "filename = '../data/champion.json'\n",
    "with open(filename, 'r') as f:\n",
    "    champ_data = json.load(f)\n",
    "\n",
    "champion_list = []\n",
    "for i, c in enumerate(champ_data['data'].keys()):\n",
    "    champion_list.append(champ_data['data'][c]['id'])"
   ]
  },
  {
   "cell_type": "markdown",
   "id": "02d133b9",
   "metadata": {},
   "source": [
    "## Load in User's 5 Most played champs\n",
    "\n",
    "This is so we don't recommend them later."
   ]
  },
  {
   "cell_type": "code",
   "execution_count": 13,
   "id": "17f85686",
   "metadata": {},
   "outputs": [],
   "source": [
    "file_path = all_champs\n",
    "reader = Reader(sep=\",\", rating_scale=(0,1))\n",
    "data = Dataset.load_from_file(file_path, reader)"
   ]
  },
  {
   "cell_type": "code",
   "execution_count": 14,
   "id": "c3d0f175",
   "metadata": {},
   "outputs": [],
   "source": [
    "most_played = {}\n",
    "\n",
    "with open(file_path, 'r') as f:\n",
    "    reader_obj = csv.reader(f)\n",
    "    cur_id = ''\n",
    "    most = []\n",
    "    for row in reader_obj: \n",
    "        user_id, champion, score = row\n",
    "        if cur_id != user_id:\n",
    "            if cur_id != '':\n",
    "                most_played[cur_id] = most\n",
    "                most = []\n",
    "            cur_id = user_id\n",
    "        \n",
    "        most.append(champion)"
   ]
  },
  {
   "cell_type": "markdown",
   "id": "0f35d6a5",
   "metadata": {},
   "source": [
    "## Train kNN model on full dataset to test recommendation interface"
   ]
  },
  {
   "cell_type": "code",
   "execution_count": 15,
   "id": "0e7063bd",
   "metadata": {},
   "outputs": [
    {
     "name": "stdout",
     "output_type": "stream",
     "text": [
      "Estimating biases using als...\n",
      "Computing the pearson_baseline similarity matrix...\n",
      "Done computing similarity matrix.\n",
      "Predictions are the same\n"
     ]
    }
   ],
   "source": [
    "sim_options = {\n",
    "    \"name\": \"pearson_baseline\",\n",
    "    \"user_based\": False\n",
    "}\n",
    "\n",
    "trainset = data.build_full_trainset()\n",
    "algo = KNNWithMeans(sim_options=sim_options)\n",
    "\n",
    "algo.fit(trainset)"
   ]
  },
  {
   "cell_type": "markdown",
   "id": "e6b622cf",
   "metadata": {},
   "source": [
    "### Get Mean Rating of each champion"
   ]
  },
  {
   "cell_type": "code",
   "execution_count": 16,
   "id": "1e0efda6",
   "metadata": {},
   "outputs": [],
   "source": [
    "mean_rating = {}\n",
    "\n",
    "for rating in trainset.all_ratings():\n",
    "    __, iid, rate = rating\n",
    "    iid = trainset.to_raw_iid(iid)\n",
    "    if iid not in mean_rating.keys():\n",
    "        mean_rating[iid] = {'score': rate, 'n': 1, 'mean': rate}\n",
    "    else:\n",
    "        mean_rating[iid]['score'] += rate\n",
    "        mean_rating[iid]['n'] += 1\n",
    "        mean_rating[iid]['mean'] = mean_rating[iid]['score']/mean_rating[iid]['n']"
   ]
  },
  {
   "cell_type": "code",
   "execution_count": 17,
   "id": "22985278",
   "metadata": {},
   "outputs": [],
   "source": [
    "def get_top_n(uid, champion_list):\n",
    "    top_n = defaultdict(list)\n",
    "    for champ in champion_list:\n",
    "        top_n[uid].append((champ,algo.predict(uid, champ).est))\n",
    "        #top_n[uid].append((champ,algo.predict(uid, champ).est/mean_rating[iid]['mean']))\n",
    "\n",
    "    for uid, user_ratings in top_n.items():\n",
    "        user_ratings.sort(key=lambda x: x[1], reverse=True)\n",
    "        top_n[uid] = user_ratings\n",
    "\n",
    "    return top_n[uid]\n",
    "\n",
    "def recommendChampion(uid, champs_played, champion_list, algo, n=10, ignore=5):\n",
    "    print(f'User ID: {uid}')\n",
    "    print(f'Champs Played: {champs_played[:ignore]}')\n",
    "    print(f'Recommendations for {uid}')\n",
    "    count = 0\n",
    "    for rec in get_top_n(uid, champion_list):\n",
    "        if count >= 5:\n",
    "            break\n",
    "        if rec[0] not in champs_played[:ignore]:\n",
    "            print(count+1, rec[0])\n",
    "            count += 1\n"
   ]
  },
  {
   "cell_type": "code",
   "execution_count": 18,
   "id": "e26abdcf",
   "metadata": {},
   "outputs": [
    {
     "name": "stdout",
     "output_type": "stream",
     "text": [
      "User ID: vCFDFYQHJ6ytN58rp71ZuDSUIrOFA7L-cT3g-oGPKDlHbw8h\n",
      "Champs Played: ['Lulu', 'Soraka', 'Seraphine', 'Karma', 'Lux', 'Leona', 'Ahri', 'Janna', 'Sona', 'Zyra']\n",
      "Recommendations for vCFDFYQHJ6ytN58rp71ZuDSUIrOFA7L-cT3g-oGPKDlHbw8h\n",
      "1 Yuumi\n",
      "2 Nami\n",
      "3 Morgana\n",
      "4 Neeko\n",
      "5 Annie\n",
      "User ID: lmcVztny5xFQJoC6TKNXgKDTYl7M3Vpqvl-fqPZVHi2qibM0\n",
      "Champs Played: ['Ahri', 'Ashe', 'Kaisa', 'Xayah', 'Lux', 'Jinx', 'Neeko', 'Morgana', 'Diana', 'Zed']\n",
      "Recommendations for lmcVztny5xFQJoC6TKNXgKDTYl7M3Vpqvl-fqPZVHi2qibM0\n",
      "1 Caitlyn\n",
      "2 Ezreal\n",
      "3 MissFortune\n",
      "4 Jhin\n",
      "5 Vayne\n"
     ]
    }
   ],
   "source": [
    "test_IDS = []\n",
    "\n",
    "for i in range(2):\n",
    "    test_IDS.append(random.choice(list(most_played.keys())))\n",
    "    \n",
    "for i in test_IDS:\n",
    "    recommendChampion(i, most_played[i], champion_list, algo, n=5, ignore=10)"
   ]
  },
  {
   "cell_type": "code",
   "execution_count": null,
   "id": "37a05f3c",
   "metadata": {},
   "outputs": [],
   "source": []
  }
 ],
 "metadata": {
  "kernelspec": {
   "display_name": "Python 3",
   "language": "python",
   "name": "python3"
  },
  "language_info": {
   "codemirror_mode": {
    "name": "ipython",
    "version": 3
   },
   "file_extension": ".py",
   "mimetype": "text/x-python",
   "name": "python",
   "nbconvert_exporter": "python",
   "pygments_lexer": "ipython3",
   "version": "3.8.8"
  }
 },
 "nbformat": 4,
 "nbformat_minor": 5
}
