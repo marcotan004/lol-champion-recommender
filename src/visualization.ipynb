{
 "cells": [
  {
   "cell_type": "code",
   "execution_count": 1,
   "id": "e3b49de0",
   "metadata": {},
   "outputs": [],
   "source": [
    "import numpy as np\n",
    "import pandas as pd\n",
    "import matplotlib.pyplot as plt\n",
    "import os"
   ]
  },
  {
   "cell_type": "code",
   "execution_count": 2,
   "id": "c6ed5d2a",
   "metadata": {},
   "outputs": [],
   "source": [
    "df = pd.read_csv('../data/mastery.csv')\n",
    "n = pd.read_csv('../data/names.csv')\n",
    "\n",
    "s = df.sum().sort_values()"
   ]
  },
  {
   "cell_type": "code",
   "execution_count": 3,
   "id": "8ec57850",
   "metadata": {},
   "outputs": [
    {
     "name": "stdout",
     "output_type": "stream",
     "text": [
      "Mean: 0.053\n",
      "std: 0.130\n"
     ]
    }
   ],
   "source": [
    "vals = df.values.flatten()\n",
    "print(f'Mean: {vals.mean():.3f}')\n",
    "print(f'std: {vals.std():.3f}')"
   ]
  },
  {
   "cell_type": "code",
   "execution_count": 4,
   "id": "1c7c5693",
   "metadata": {},
   "outputs": [
    {
     "data": {
      "text/plain": [
       "(array([8.61560026, 0.68426062, 0.27890922, 0.14083535, 0.08161002,\n",
       "        0.05119193, 0.03443479, 0.02313783, 0.01728015, 0.07273982]),\n",
       " array([0. , 0.1, 0.2, 0.3, 0.4, 0.5, 0.6, 0.7, 0.8, 0.9, 1. ]),\n",
       " <BarContainer object of 10 artists>)"
      ]
     },
     "execution_count": 4,
     "metadata": {},
     "output_type": "execute_result"
    },
    {
     "data": {
      "image/png": "[encoded data removed]",
      "text/plain": [
       "<Figure size 432x288 with 1 Axes>"
      ]
     },
     "metadata": {
      "needs_background": "light"
     },
     "output_type": "display_data"
    }
   ],
   "source": [
    "plt.hist(vals, density=True)"
   ]
  },
  {
   "cell_type": "code",
   "execution_count": 5,
   "id": "36fa1a7a",
   "metadata": {},
   "outputs": [
    {
     "data": {
      "text/plain": [
       "(array([411830.,  32708.,  13332.,   6732.,   3901.,   2447.,   1646.,\n",
       "          1106.,    826.,   3477.]),\n",
       " array([0. , 0.1, 0.2, 0.3, 0.4, 0.5, 0.6, 0.7, 0.8, 0.9, 1. ]),\n",
       " <BarContainer object of 10 artists>)"
      ]
     },
     "execution_count": 5,
     "metadata": {},
     "output_type": "execute_result"
    },
    {
     "data": {
      "image/png": "[encoded data removed]",
      "text/plain": [
       "<Figure size 432x288 with 1 Axes>"
      ]
     },
     "metadata": {
      "needs_background": "light"
     },
     "output_type": "display_data"
    }
   ],
   "source": [
    "plt.hist(vals, density=False)"
   ]
  },
  {
   "cell_type": "code",
   "execution_count": 6,
   "id": "d1224f22",
   "metadata": {},
   "outputs": [
    {
     "data": {
      "text/plain": [
       "(array([32707., 13330.,  6732.,  3902.,  2446.,  1646.,  1106.,   826.,\n",
       "         3477.]),\n",
       " array([0.10000122, 0.20000108, 0.30000095, 0.40000081, 0.50000068,\n",
       "        0.60000054, 0.70000041, 0.80000027, 0.90000014, 1.        ]),\n",
       " <BarContainer object of 9 artists>)"
      ]
     },
     "execution_count": 6,
     "metadata": {},
     "output_type": "execute_result"
    },
    {
     "data": {
      "image/png": "[encoded data removed]",
      "text/plain": [
       "<Figure size 432x288 with 1 Axes>"
      ]
     },
     "metadata": {
      "needs_background": "light"
     },
     "output_type": "display_data"
    }
   ],
   "source": [
    "zeros_removed = vals[vals>0.1]\n",
    "plt.hist(zeros_removed, bins=9) "
   ]
  },
  {
   "cell_type": "code",
   "execution_count": 7,
   "id": "9e0f648d",
   "metadata": {},
   "outputs": [
    {
     "name": "stdout",
     "output_type": "stream",
     "text": [
      "Sum of Mastery Scores - correlated with champion popularity\n",
      "Milio       18.800868\n",
      "Briar       21.022974\n",
      "Naafiri     21.071618\n",
      "Skarner     29.054571\n",
      "Nilah       31.694343\n",
      "              ...    \n",
      "Lux        399.645698\n",
      "Kaisa      406.180215\n",
      "Jhin       422.863691\n",
      "Ezreal     484.918426\n",
      "Yasuo      500.765366\n",
      "Length: 165, dtype: float64\n"
     ]
    }
   ],
   "source": [
    "print('Sum of Mastery Scores - correlated with champion popularity')\n",
    "print(s)"
   ]
  },
  {
   "cell_type": "markdown",
   "id": "9d084ab9",
   "metadata": {},
   "source": [
    "## Check whether different champion players have different preferences\n",
    "\n",
    "There is evidence that players who frequently play Yasuo play champions opposite of Lux, since Yasuo players have a much lower average mastery score on champions such as Lux, MissFortune, and Ashe while they play more Zed, Yone, and Akali on average. This makes sense from a gameplay point of view, since champions such as Zed, Yone, and Akali play the same lane as Yasuo (mid/top), and are also part of the Assassin class. Lux takes the mid/bottom lane role, however her play style is to support the team and provide long distance burst damage as opposed to Yasuo's riskier playstyle of assassinating the enemy's backline in melee range, putting himself at risk. Miss Fortune and Ashe are marksmen that are primarily played in the bottom lane role whose job it is to provide consistent long distance damage."
   ]
  },
  {
   "cell_type": "code",
   "execution_count": 8,
   "id": "8219bf53",
   "metadata": {},
   "outputs": [
    {
     "name": "stdout",
     "output_type": "stream",
     "text": [
      "Top 10 Average Mastery Scores of Sampled Players\n",
      "Vayne          0.106383\n",
      "Akali          0.112517\n",
      "MissFortune    0.113991\n",
      "Ashe           0.117454\n",
      "Caitlyn        0.133999\n",
      "Lux            0.137952\n",
      "Kaisa          0.140207\n",
      "Jhin           0.145966\n",
      "Ezreal         0.167386\n",
      "Yasuo          0.172857\n",
      "dtype: float64\n",
      "Average 10 Average Mastery Scores of Lux Players\n",
      "Yuumi          0.117612\n",
      "Ashe           0.134757\n",
      "Caitlyn        0.135078\n",
      "Seraphine      0.150604\n",
      "Senna          0.153759\n",
      "MissFortune    0.162055\n",
      "Soraka         0.178314\n",
      "Ahri           0.190625\n",
      "Morgana        0.261734\n",
      "Lux            1.000000\n",
      "dtype: float64\n",
      "Top 10 Average Mastery Scores of Yasuo Players\n",
      "Jhin        0.121506\n",
      "MasterYi    0.121731\n",
      "Katarina    0.127977\n",
      "Irelia      0.132969\n",
      "LeeSin      0.145234\n",
      "Akali       0.149230\n",
      "Ezreal      0.151760\n",
      "Yone        0.180306\n",
      "Zed         0.197347\n",
      "Yasuo       1.000000\n",
      "dtype: float64\n"
     ]
    }
   ],
   "source": [
    "s = df.mean().sort_values()\n",
    "yasuo = df.loc[(df['Yasuo']==1.00)]\n",
    "yasuo = yasuo.mean().sort_values()\n",
    "#yasuo = (yasuo-s).sort_values()\n",
    "lux = df.loc[(df['Lux']==1.00)]\n",
    "lux = lux.mean().sort_values()\n",
    "#lux = (lux-s).sort_values()\n",
    "print('Top 10 Average Mastery Scores of Sampled Players')\n",
    "print(s.tail(10))\n",
    "print('Average 10 Average Mastery Scores of Lux Players')\n",
    "print(lux.tail(10))\n",
    "print('Top 10 Average Mastery Scores of Yasuo Players')\n",
    "print(yasuo.tail(10))"
   ]
  },
  {
   "cell_type": "code",
   "execution_count": 14,
   "id": "1c06f2c0",
   "metadata": {},
   "outputs": [
    {
     "name": "stdout",
     "output_type": "stream",
     "text": [
      "Top 5 Champions (Popularity)\n",
      "Lux       0.137952\n",
      "Kaisa     0.140207\n",
      "Jhin      0.145966\n",
      "Ezreal    0.167386\n",
      "Yasuo     0.172857\n",
      "dtype: float64\n",
      "Top 5 Champions More Popular With Lux Players\n",
      "Ahri         0.103203\n",
      "Seraphine    0.115301\n",
      "Soraka       0.124106\n",
      "Morgana      0.174043\n",
      "Lux          0.862048\n",
      "dtype: float64\n",
      "Top 5 Champions More Popular with Yasuo Players\n",
      "Katarina    0.047993\n",
      "LeeSin      0.054233\n",
      "Yone        0.095960\n",
      "Zed         0.100005\n",
      "Yasuo       0.827143\n",
      "dtype: float64\n",
      "Top 5 Champions Least Popular With Lux Players\n",
      "Yasuo      -0.118227\n",
      "Jhin       -0.079871\n",
      "Kayn       -0.078089\n",
      "Darius     -0.077237\n",
      "# Aatrox   -0.070438\n",
      "dtype: float64\n",
      "Top 5 Champions Least Popular With Yasuo Players\n",
      "Lux           -0.057667\n",
      "MissFortune   -0.049844\n",
      "Kaisa         -0.048781\n",
      "Morgana       -0.040522\n",
      "Yuumi         -0.036356\n",
      "dtype: float64\n"
     ]
    }
   ],
   "source": [
    "s = df.mean().sort_values()\n",
    "yasuo = df.loc[(df['Yasuo']==1.00)]\n",
    "yasuo = yasuo.mean().sort_values()\n",
    "yasuo = (yasuo-s).sort_values()\n",
    "lux = df.loc[(df['Lux']==1.00)]\n",
    "lux = lux.mean().sort_values()\n",
    "lux = (lux-s).sort_values()\n",
    "\n",
    "\n",
    "print('Top 5 Champions (Popularity)')\n",
    "print(s.tail(5))\n",
    "print('Top 5 Champions More Popular With Lux Players')\n",
    "print(lux.tail(5))\n",
    "print('Top 5 Champions More Popular with Yasuo Players')\n",
    "print(yasuo.tail(5))\n",
    "print('Top 5 Champions Least Popular With Lux Players')\n",
    "print(lux.head(5))\n",
    "print('Top 5 Champions Least Popular With Yasuo Players')\n",
    "print(yasuo.head(5))\n",
    "\n"
   ]
  },
  {
   "cell_type": "code",
   "execution_count": 10,
   "id": "d7c6bdff",
   "metadata": {},
   "outputs": [
    {
     "data": {
      "text/plain": [
       "array([[<AxesSubplot:title={'center':'Yasuo'}>,\n",
       "        <AxesSubplot:title={'center':'Zed'}>],\n",
       "       [<AxesSubplot:title={'center':'Lux'}>, <AxesSubplot:>]],\n",
       "      dtype=object)"
      ]
     },
     "execution_count": 10,
     "metadata": {},
     "output_type": "execute_result"
    },
    {
     "data": {
      "image/png": "[encoded data removed]",
      "text/plain": [
       "<Figure size 432x288 with 4 Axes>"
      ]
     },
     "metadata": {
      "needs_background": "light"
     },
     "output_type": "display_data"
    }
   ],
   "source": [
    "df.hist(column=['Yasuo', 'Zed', 'Lux'], density=True)"
   ]
  },
  {
   "cell_type": "code",
   "execution_count": 11,
   "id": "42a69492",
   "metadata": {},
   "outputs": [
    {
     "data": {
      "text/plain": [
       "array([[<AxesSubplot:title={'center':'Zed'}>,\n",
       "        <AxesSubplot:title={'center':'Lux'}>]], dtype=object)"
      ]
     },
     "execution_count": 11,
     "metadata": {},
     "output_type": "execute_result"
    },
    {
     "data": {
      "image/png": "[encoded data removed]",
      "text/plain": [
       "<Figure size 432x288 with 2 Axes>"
      ]
     },
     "metadata": {
      "needs_background": "light"
     },
     "output_type": "display_data"
    }
   ],
   "source": [
    "yasuo = df.loc[(df['Yasuo']==1.00)]\n",
    "yasuo.hist(column=['Zed', 'Lux'], density=True)"
   ]
  },
  {
   "cell_type": "code",
   "execution_count": null,
   "id": "8a45740c",
   "metadata": {},
   "outputs": [],
   "source": []
  }
 ],
 "metadata": {
  "kernelspec": {
   "display_name": "Python 3",
   "language": "python",
   "name": "python3"
  },
  "language_info": {
   "codemirror_mode": {
    "name": "ipython",
    "version": 3
   },
   "file_extension": ".py",
   "mimetype": "text/x-python",
   "name": "python",
   "nbconvert_exporter": "python",
   "pygments_lexer": "ipython3",
   "version": "3.8.8"
  }
 },
 "nbformat": 4,
 "nbformat_minor": 5
}
