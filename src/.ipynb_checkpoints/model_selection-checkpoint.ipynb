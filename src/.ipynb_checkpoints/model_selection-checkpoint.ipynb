{
 "cells": [
  {
   "cell_type": "code",
   "execution_count": 28,
   "id": "7ac21a4c",
   "metadata": {},
   "outputs": [],
   "source": [
    "import csv\n",
    "import json\n",
    "import requests\n",
    "import numpy as np\n",
    "import pandas as pd\n",
    "import matplotlib.pyplot as plt\n",
    "import pprint\n",
    "import os\n",
    "import random\n",
    "\n",
    "from collections import defaultdict\n",
    "from surprise import BaselineOnly, Dataset, Reader, accuracy, SVD, SVDpp, NormalPredictor, NMF, SlopeOne, CoClustering, KNNBasic, KNNWithMeans, KNNBaseline, dump\n",
    "from surprise.model_selection import cross_validate, train_test_split "
   ]
  },
  {
   "cell_type": "markdown",
   "id": "23e89c4c",
   "metadata": {},
   "source": [
    "# Test various models for our recommendation system"
   ]
  },
  {
   "cell_type": "markdown",
   "id": "559df6c9",
   "metadata": {},
   "source": [
    "## Test on sample data\n",
    "\n",
    "Make sure surprise is working"
   ]
  },
  {
   "cell_type": "code",
   "execution_count": 2,
   "id": "b2495ad3",
   "metadata": {},
   "outputs": [
    {
     "name": "stdout",
     "output_type": "stream",
     "text": [
      "Evaluating RMSE, MAE, FCP of algorithm SVD on 5 split(s).\n",
      "\n",
      "                  Fold 1  Fold 2  Fold 3  Fold 4  Fold 5  Mean    Std     \n",
      "RMSE (testset)    0.9352  0.9410  0.9332  0.9357  0.9393  0.9369  0.0028  \n",
      "MAE (testset)     0.7353  0.7401  0.7341  0.7396  0.7397  0.7378  0.0026  \n",
      "FCP (testset)     0.7041  0.6911  0.6988  0.6976  0.7063  0.6996  0.0053  \n",
      "Fit time          0.87    0.88    0.78    0.83    0.68    0.81    0.07    \n",
      "Test time         0.14    0.20    0.20    0.12    0.16    0.16    0.03    \n"
     ]
    },
    {
     "data": {
      "text/plain": [
       "{'test_rmse': array([0.93521219, 0.94095016, 0.93315332, 0.93570368, 0.93926652]),\n",
       " 'test_mae': array([0.73525282, 0.74010859, 0.73408763, 0.73960873, 0.73974675]),\n",
       " 'test_fcp': array([0.70412359, 0.69106322, 0.69877729, 0.69762417, 0.70630242]),\n",
       " 'fit_time': (0.8738999366760254,\n",
       "  0.8768339157104492,\n",
       "  0.7775988578796387,\n",
       "  0.8324289321899414,\n",
       "  0.6789538860321045),\n",
       " 'test_time': (0.13591289520263672,\n",
       "  0.19752812385559082,\n",
       "  0.19586610794067383,\n",
       "  0.12439894676208496,\n",
       "  0.16181397438049316)}"
      ]
     },
     "execution_count": 2,
     "metadata": {},
     "output_type": "execute_result"
    }
   ],
   "source": [
    "data = Dataset.load_builtin('ml-100k')\n",
    "algo = SVD()\n",
    "cross_validate(algo, data, measures=['RMSE', 'MAE', 'FCP'], cv=5, verbose=True)"
   ]
  },
  {
   "cell_type": "markdown",
   "id": "dbe32a0b",
   "metadata": {},
   "source": [
    "## Test KNNWithMeans settings\n",
    "\n",
    "Test RMSE and MAE values against similarity metrics and against user-user vs. item-item comparisions. Cosine was not tested since it faced issues with the 0 values in the dataset."
   ]
  },
  {
   "cell_type": "code",
   "execution_count": 3,
   "id": "9259d1b4",
   "metadata": {},
   "outputs": [],
   "source": [
    "all_champs = os.path.expanduser('../data/surprise_data_full.csv')\n",
    "users_750 = os.path.expanduser('../data/surprise_data_750.csv')\n",
    "\n",
    "file_path = users_750\n",
    "reader = Reader(sep=\",\", rating_scale=(0,1))\n",
    "data = Dataset.load_from_file(file_path, reader)"
   ]
  },
  {
   "cell_type": "code",
   "execution_count": 4,
   "id": "7fc72160",
   "metadata": {},
   "outputs": [
    {
     "name": "stdout",
     "output_type": "stream",
     "text": [
      "Estimating biases using als...\n",
      "Computing the pearson_baseline similarity matrix...\n",
      "Done computing similarity matrix.\n",
      "Estimating biases using als...\n",
      "Computing the pearson_baseline similarity matrix...\n",
      "Done computing similarity matrix.\n",
      "Estimating biases using als...\n",
      "Computing the pearson_baseline similarity matrix...\n",
      "Done computing similarity matrix.\n",
      "Estimating biases using als...\n",
      "Computing the pearson_baseline similarity matrix...\n",
      "Done computing similarity matrix.\n",
      "Estimating biases using als...\n",
      "Computing the pearson_baseline similarity matrix...\n",
      "Done computing similarity matrix.\n",
      "Estimating biases using als...\n",
      "Computing the pearson_baseline similarity matrix...\n",
      "Done computing similarity matrix.\n",
      "Computing the msd similarity matrix...\n",
      "Done computing similarity matrix.\n",
      "Computing the msd similarity matrix...\n",
      "Done computing similarity matrix.\n",
      "Computing the msd similarity matrix...\n",
      "Done computing similarity matrix.\n",
      "Computing the msd similarity matrix...\n",
      "Done computing similarity matrix.\n",
      "Computing the msd similarity matrix...\n",
      "Done computing similarity matrix.\n",
      "Computing the msd similarity matrix...\n",
      "Done computing similarity matrix.\n",
      "Computing the pearson similarity matrix...\n",
      "Done computing similarity matrix.\n",
      "Computing the pearson similarity matrix...\n",
      "Done computing similarity matrix.\n",
      "Computing the pearson similarity matrix...\n",
      "Done computing similarity matrix.\n",
      "Computing the pearson similarity matrix...\n",
      "Done computing similarity matrix.\n",
      "Computing the pearson similarity matrix...\n",
      "Done computing similarity matrix.\n",
      "Computing the pearson similarity matrix...\n",
      "Done computing similarity matrix.\n"
     ]
    }
   ],
   "source": [
    "options = ['pearson_baseline', 'MSD', 'pearson']\n",
    "value = [True, False]\n",
    "\n",
    "results = {}\n",
    "for opt in options:\n",
    "    for val in value:            \n",
    "        sim_options = {\n",
    "            \"name\": opt,\n",
    "            \"user_based\": val\n",
    "        }\n",
    "\n",
    "        algo = KNNWithMeans(sim_options=sim_options)\n",
    "        res = cross_validate(algo, data, measures=['RMSE', 'MAE', 'FCP'], cv=3, verbose=False)\n",
    "\n",
    "        if val:\n",
    "            entry = opt + \" (T)\"\n",
    "        else:\n",
    "            entry = opt + \" (F)\"\n",
    "\n",
    "        results[entry] = {\"RMSE\": res['test_rmse'].mean(), \"MAE\": res['test_mae'].mean(), 'FCP': res['test_fcp'].mean(), 'Test Time': res['test_time'][-1]}"
   ]
  },
  {
   "cell_type": "markdown",
   "id": "d93fe7c9",
   "metadata": {},
   "source": [
    "User Based comparision took 3x longer than Item based similarity comparision. FCP seems to be maximized and RMSE/MAE seems to be minimized when using pearson_baseline."
   ]
  },
  {
   "cell_type": "code",
   "execution_count": 5,
   "id": "553a66d7",
   "metadata": {},
   "outputs": [
    {
     "name": "stdout",
     "output_type": "stream",
     "text": [
      "{'MSD (F)': {'FCP': 0.6622000827135307,\n",
      "             'MAE': 0.05969529783293403,\n",
      "             'RMSE': 0.12056462292465724,\n",
      "             'Test Time': 7.560266017913818},\n",
      " 'MSD (T)': {'FCP': 0.6435753314426216,\n",
      "             'MAE': 0.06252525400353505,\n",
      "             'RMSE': 0.12033282979853654,\n",
      "             'Test Time': 15.740524053573608},\n",
      " 'pearson (F)': {'FCP': 0.672662652546513,\n",
      "                 'MAE': 0.055934237878848096,\n",
      "                 'RMSE': 0.11707619723555729,\n",
      "                 'Test Time': 6.317540884017944},\n",
      " 'pearson (T)': {'FCP': 0.6611026516448302,\n",
      "                 'MAE': 0.056287200136339734,\n",
      "                 'RMSE': 0.11679364718477936,\n",
      "                 'Test Time': 17.66224503517151},\n",
      " 'pearson_baseline (F)': {'FCP': 0.6805138429167702,\n",
      "                          'MAE': 0.05408328514452796,\n",
      "                          'RMSE': 0.11560476943667114,\n",
      "                          'Test Time': 6.562030076980591},\n",
      " 'pearson_baseline (T)': {'FCP': 0.6692241340508693,\n",
      "                          'MAE': 0.05616639220446659,\n",
      "                          'RMSE': 0.116670107503191,\n",
      "                          'Test Time': 16.771663904190063}}\n"
     ]
    }
   ],
   "source": [
    "pprint.pprint(results)"
   ]
  },
  {
   "cell_type": "code",
   "execution_count": 6,
   "id": "1ad65b1a",
   "metadata": {},
   "outputs": [
    {
     "name": "stdout",
     "output_type": "stream",
     "text": [
      "Estimating biases using als...\n",
      "Computing the pearson_baseline similarity matrix...\n",
      "Done computing similarity matrix.\n",
      "Estimating biases using als...\n",
      "Computing the pearson_baseline similarity matrix...\n",
      "Done computing similarity matrix.\n",
      "Estimating biases using als...\n",
      "Computing the pearson_baseline similarity matrix...\n",
      "Done computing similarity matrix.\n",
      "Estimating biases using als...\n",
      "Computing the pearson_baseline similarity matrix...\n",
      "Done computing similarity matrix.\n",
      "Estimating biases using als...\n",
      "Computing the pearson_baseline similarity matrix...\n",
      "Done computing similarity matrix.\n",
      "Estimating biases using als...\n",
      "Computing the pearson_baseline similarity matrix...\n",
      "Done computing similarity matrix.\n",
      "Estimating biases using als...\n",
      "Computing the pearson_baseline similarity matrix...\n",
      "Done computing similarity matrix.\n",
      "Estimating biases using als...\n",
      "Computing the pearson_baseline similarity matrix...\n",
      "Done computing similarity matrix.\n",
      "Estimating biases using als...\n",
      "Computing the pearson_baseline similarity matrix...\n",
      "Done computing similarity matrix.\n",
      "Estimating biases using als...\n",
      "Computing the pearson_baseline similarity matrix...\n",
      "Done computing similarity matrix.\n",
      "Estimating biases using als...\n",
      "Computing the pearson_baseline similarity matrix...\n",
      "Done computing similarity matrix.\n",
      "Estimating biases using als...\n",
      "Computing the pearson_baseline similarity matrix...\n",
      "Done computing similarity matrix.\n",
      "Estimating biases using als...\n",
      "Computing the pearson_baseline similarity matrix...\n",
      "Done computing similarity matrix.\n",
      "Estimating biases using als...\n",
      "Computing the pearson_baseline similarity matrix...\n",
      "Done computing similarity matrix.\n",
      "Estimating biases using als...\n",
      "Computing the pearson_baseline similarity matrix...\n",
      "Done computing similarity matrix.\n",
      "Estimating biases using als...\n",
      "Computing the pearson_baseline similarity matrix...\n",
      "Done computing similarity matrix.\n",
      "Estimating biases using als...\n",
      "Computing the pearson_baseline similarity matrix...\n",
      "Done computing similarity matrix.\n",
      "Estimating biases using als...\n",
      "Computing the pearson_baseline similarity matrix...\n",
      "Done computing similarity matrix.\n",
      "Estimating biases using als...\n",
      "Computing the pearson_baseline similarity matrix...\n",
      "Done computing similarity matrix.\n",
      "Estimating biases using als...\n",
      "Computing the pearson_baseline similarity matrix...\n",
      "Done computing similarity matrix.\n",
      "Estimating biases using als...\n",
      "Computing the pearson_baseline similarity matrix...\n",
      "Done computing similarity matrix.\n",
      "Estimating biases using als...\n",
      "Computing the pearson_baseline similarity matrix...\n",
      "Done computing similarity matrix.\n",
      "Estimating biases using als...\n",
      "Computing the pearson_baseline similarity matrix...\n",
      "Done computing similarity matrix.\n",
      "Estimating biases using als...\n",
      "Computing the pearson_baseline similarity matrix...\n",
      "Done computing similarity matrix.\n",
      "Estimating biases using als...\n",
      "Computing the pearson_baseline similarity matrix...\n",
      "Done computing similarity matrix.\n",
      "Estimating biases using als...\n",
      "Computing the pearson_baseline similarity matrix...\n",
      "Done computing similarity matrix.\n",
      "Estimating biases using als...\n",
      "Computing the pearson_baseline similarity matrix...\n",
      "Done computing similarity matrix.\n",
      "Estimating biases using als...\n",
      "Computing the pearson_baseline similarity matrix...\n",
      "Done computing similarity matrix.\n",
      "Estimating biases using als...\n",
      "Computing the pearson_baseline similarity matrix...\n",
      "Done computing similarity matrix.\n",
      "Estimating biases using als...\n",
      "Computing the pearson_baseline similarity matrix...\n",
      "Done computing similarity matrix.\n",
      "Estimating biases using als...\n",
      "Computing the pearson_baseline similarity matrix...\n",
      "Done computing similarity matrix.\n",
      "Estimating biases using als...\n",
      "Computing the pearson_baseline similarity matrix...\n",
      "Done computing similarity matrix.\n",
      "Estimating biases using als...\n",
      "Computing the pearson_baseline similarity matrix...\n",
      "Done computing similarity matrix.\n",
      "Estimating biases using als...\n",
      "Computing the pearson_baseline similarity matrix...\n",
      "Done computing similarity matrix.\n",
      "Estimating biases using als...\n",
      "Computing the pearson_baseline similarity matrix...\n",
      "Done computing similarity matrix.\n",
      "Estimating biases using als...\n",
      "Computing the pearson_baseline similarity matrix...\n",
      "Done computing similarity matrix.\n",
      "Estimating biases using als...\n",
      "Computing the pearson_baseline similarity matrix...\n",
      "Done computing similarity matrix.\n",
      "Estimating biases using als...\n",
      "Computing the pearson_baseline similarity matrix...\n",
      "Done computing similarity matrix.\n",
      "Estimating biases using als...\n",
      "Computing the pearson_baseline similarity matrix...\n",
      "Done computing similarity matrix.\n",
      "Estimating biases using als...\n",
      "Computing the pearson_baseline similarity matrix...\n",
      "Done computing similarity matrix.\n",
      "Estimating biases using als...\n",
      "Computing the pearson_baseline similarity matrix...\n",
      "Done computing similarity matrix.\n",
      "Estimating biases using als...\n",
      "Computing the pearson_baseline similarity matrix...\n",
      "Done computing similarity matrix.\n",
      "Estimating biases using als...\n",
      "Computing the pearson_baseline similarity matrix...\n",
      "Done computing similarity matrix.\n",
      "Estimating biases using als...\n",
      "Computing the pearson_baseline similarity matrix...\n",
      "Done computing similarity matrix.\n",
      "Estimating biases using als...\n",
      "Computing the pearson_baseline similarity matrix...\n",
      "Done computing similarity matrix.\n",
      "Estimating biases using als...\n",
      "Computing the pearson_baseline similarity matrix...\n",
      "Done computing similarity matrix.\n",
      "Estimating biases using als...\n",
      "Computing the pearson_baseline similarity matrix...\n",
      "Done computing similarity matrix.\n",
      "Estimating biases using als...\n",
      "Computing the pearson_baseline similarity matrix...\n",
      "Done computing similarity matrix.\n",
      "Estimating biases using als...\n",
      "Computing the pearson_baseline similarity matrix...\n",
      "Done computing similarity matrix.\n",
      "Estimating biases using als...\n",
      "Computing the pearson_baseline similarity matrix...\n",
      "Done computing similarity matrix.\n",
      "Estimating biases using als...\n",
      "Computing the pearson_baseline similarity matrix...\n",
      "Done computing similarity matrix.\n",
      "Estimating biases using als...\n",
      "Computing the pearson_baseline similarity matrix...\n",
      "Done computing similarity matrix.\n",
      "Estimating biases using als...\n",
      "Computing the pearson_baseline similarity matrix...\n",
      "Done computing similarity matrix.\n",
      "Estimating biases using als...\n",
      "Computing the pearson_baseline similarity matrix...\n",
      "Done computing similarity matrix.\n",
      "Estimating biases using als...\n",
      "Computing the pearson_baseline similarity matrix...\n",
      "Done computing similarity matrix.\n"
     ]
    }
   ],
   "source": [
    "x = np.arange(5, 60, 5)\n",
    "y = np.zeros_like(x, dtype=float)\n",
    "\n",
    "sim_options = {\n",
    "    \"name\": \"pearson_baseline\",\n",
    "    \"user_based\": False\n",
    "}\n",
    "\n",
    "for i, n in enumerate(x):\n",
    "    algo = KNNWithMeans(k=n, sim_options=sim_options)\n",
    "    y[i] = cross_validate(algo, data, measures=['RMSE', 'MAE'], cv=5, verbose=False)['test_rmse'].mean() "
   ]
  },
  {
   "cell_type": "code",
   "execution_count": 7,
   "id": "7b6a37f5",
   "metadata": {},
   "outputs": [
    {
     "data": {
      "text/plain": [
       "Text(0.5, 0, 'k neighbors')"
      ]
     },
     "execution_count": 7,
     "metadata": {},
     "output_type": "execute_result"
    },
    {
     "data": {
      "image/png": "[encoded data removed]",
      "text/plain": [
       "<Figure size 432x288 with 1 Axes>"
      ]
     },
     "metadata": {
      "needs_background": "light"
     },
     "output_type": "display_data"
    }
   ],
   "source": [
    "plt.plot(x,y)\n",
    "plt.title(\"RMSE vs. k neighbors\")\n",
    "plt.ylabel(\"RMSE\")\n",
    "plt.xlabel(\"k neighbors\")\n",
    "\n",
    "# 25 seems to be where the dropoff stops"
   ]
  },
  {
   "cell_type": "markdown",
   "id": "2c9a1096",
   "metadata": {},
   "source": [
    "## Test effect of N Factors on RMSE for N Factors in SVD"
   ]
  },
  {
   "cell_type": "code",
   "execution_count": 8,
   "id": "772a09a8",
   "metadata": {},
   "outputs": [
    {
     "name": "stdout",
     "output_type": "stream",
     "text": [
      "2\n",
      "7\n",
      "12\n",
      "17\n",
      "22\n",
      "27\n",
      "32\n",
      "37\n",
      "42\n",
      "47\n",
      "52\n",
      "57\n",
      "62\n",
      "67\n",
      "72\n",
      "77\n",
      "82\n",
      "87\n",
      "92\n",
      "97\n",
      "102\n",
      "107\n",
      "112\n",
      "117\n",
      "122\n",
      "127\n",
      "132\n",
      "137\n",
      "142\n",
      "147\n",
      "152\n",
      "157\n"
     ]
    }
   ],
   "source": [
    "x = np.arange(2, 161, 5)\n",
    "y = np.zeros_like(x, dtype=float)\n",
    "for i, n in enumerate(x):\n",
    "    print(n)\n",
    "    algo = SVD(n_factors=n)\n",
    "    y[i] = cross_validate(algo, data, measures=['RMSE', 'MAE'], cv=5, verbose=False)['test_rmse'].mean() "
   ]
  },
  {
   "cell_type": "code",
   "execution_count": 9,
   "id": "090a6e85",
   "metadata": {},
   "outputs": [
    {
     "data": {
      "text/plain": [
       "Text(0.5, 0, 'N factors')"
      ]
     },
     "execution_count": 9,
     "metadata": {},
     "output_type": "execute_result"
    },
    {
     "data": {
      "image/png": "[encoded data removed]",
      "text/plain": [
       "<Figure size 432x288 with 1 Axes>"
      ]
     },
     "metadata": {
      "needs_background": "light"
     },
     "output_type": "display_data"
    }
   ],
   "source": [
    "plt.plot(x,y)\n",
    "plt.title(\"RMSE vs. N factors\")\n",
    "plt.ylabel(\"RMSE\")\n",
    "plt.xlabel(\"N factors\")\n",
    "\n",
    "# RMSE increases slightly with N factors, however at the lowest level it still gets outperformed by kNN"
   ]
  },
  {
   "cell_type": "markdown",
   "id": "ad3120ac",
   "metadata": {},
   "source": [
    "## Test available classifiers on champion data\n",
    "\n",
    "SVD - predict a user's rating of a given champion, accounting for their individual bias.\n",
    "\n",
    "SVD++ - extension of SVD, accounting for implicit ratings, which accounts for the fact that a user rated item j without accouting for the given value (the user looked at this value)\n",
    "\n",
    "Baseline - predicts baseline estimate for given user and item\n",
    "\n",
    "Random - give a random rating based on distribution of training set\n",
    "\n",
    "NMF - based on Non-negative Matrix Factorization, similar to SVD - algorithm highly dependent on initial values\n",
    "\n",
    "Slope One - predict users preference for particular item based on preferences of other users\n",
    "\n",
    "Co-clustering - users and items assigned clusters\n",
    "\n",
    "k-NN Basic - aggregate of neighbors\n",
    "\n",
    "Centered k-NN - aggregate of neighbors, but the mean rating of each user is accounted for\n",
    "\n",
    "k-NN baseline - k-nn, but a baseline rating is accounted for"
   ]
  },
  {
   "cell_type": "code",
   "execution_count": 10,
   "id": "5309164e",
   "metadata": {
    "scrolled": false
   },
   "outputs": [
    {
     "name": "stdout",
     "output_type": "stream",
     "text": [
      "Baseline\n",
      "Estimating biases using als...\n",
      "Estimating biases using als...\n",
      "Estimating biases using als...\n",
      "Estimating biases using als...\n",
      "Estimating biases using als...\n",
      "SVD\n",
      "SVDpp\n",
      "Random\n",
      "NMF\n",
      "Slope One\n",
      "Co-clustering\n",
      "KNN\n",
      "Estimating biases using als...\n",
      "Computing the pearson_baseline similarity matrix...\n",
      "Done computing similarity matrix.\n",
      "Estimating biases using als...\n",
      "Computing the pearson_baseline similarity matrix...\n",
      "Done computing similarity matrix.\n",
      "Estimating biases using als...\n",
      "Computing the pearson_baseline similarity matrix...\n",
      "Done computing similarity matrix.\n",
      "Estimating biases using als...\n",
      "Computing the pearson_baseline similarity matrix...\n",
      "Done computing similarity matrix.\n",
      "Estimating biases using als...\n",
      "Computing the pearson_baseline similarity matrix...\n",
      "Done computing similarity matrix.\n",
      "KNN With Means\n",
      "Estimating biases using als...\n",
      "Computing the pearson_baseline similarity matrix...\n",
      "Done computing similarity matrix.\n",
      "Estimating biases using als...\n",
      "Computing the pearson_baseline similarity matrix...\n",
      "Done computing similarity matrix.\n",
      "Estimating biases using als...\n",
      "Computing the pearson_baseline similarity matrix...\n",
      "Done computing similarity matrix.\n",
      "Estimating biases using als...\n",
      "Computing the pearson_baseline similarity matrix...\n",
      "Done computing similarity matrix.\n",
      "Estimating biases using als...\n",
      "Computing the pearson_baseline similarity matrix...\n",
      "Done computing similarity matrix.\n",
      "KNN Baseline\n",
      "Estimating biases using als...\n",
      "Computing the pearson_baseline similarity matrix...\n",
      "Done computing similarity matrix.\n",
      "Estimating biases using als...\n",
      "Computing the pearson_baseline similarity matrix...\n",
      "Done computing similarity matrix.\n",
      "Estimating biases using als...\n",
      "Computing the pearson_baseline similarity matrix...\n",
      "Done computing similarity matrix.\n",
      "Estimating biases using als...\n",
      "Computing the pearson_baseline similarity matrix...\n",
      "Done computing similarity matrix.\n",
      "Estimating biases using als...\n",
      "Computing the pearson_baseline similarity matrix...\n",
      "Done computing similarity matrix.\n"
     ]
    }
   ],
   "source": [
    "sim_options = {\n",
    "    \"name\": \"pearson_baseline\",\n",
    "    \"user_based\": False\n",
    "}\n",
    "\n",
    "k = 25\n",
    "classifiers = [BaselineOnly(), SVD(), SVDpp(), NormalPredictor(), NMF(), \\\n",
    "               SlopeOne(), CoClustering(n_cltr_u = 3, n_cltr_i = 3), KNNBasic(k=k, sim_options=sim_options), \\\n",
    "               KNNWithMeans(k=k, sim_options=sim_options), KNNBaseline(k=k, sim_options=sim_options)]\n",
    "\n",
    "labels = ['Baseline', 'SVD', 'SVDpp', 'Random', 'NMF', 'Slope One', 'Co-clustering', 'KNN', 'KNN With Means','KNN Baseline']\n",
    "\n",
    "results = {}\n",
    "for (cls, tag) in zip(classifiers, labels):\n",
    "    print(tag)\n",
    "    res = cross_validate(cls, data, measures=['RMSE', 'MAE', 'FCP'], cv=5, verbose=False)\n",
    "    results[tag] = results[entry] = {\"RMSE\": res['test_rmse'].mean(), \"MAE\": res['test_mae'].mean(), 'FCP': res['test_fcp'].mean(), 'Test Time': res['test_time'][-1]}"
   ]
  },
  {
   "cell_type": "markdown",
   "id": "50eb6b57",
   "metadata": {},
   "source": [
    "### Analysis\n",
    "\n",
    "KNN outperforms the other algorithms by every metric, with KNN With Means and KNNBaseline performing the best out of the KNN algorithms. NMF, Baseline, and SVD/SVDpp, SlopeOne seem to be a tier below kNN."
   ]
  },
  {
   "cell_type": "code",
   "execution_count": 11,
   "id": "853c103e",
   "metadata": {},
   "outputs": [
    {
     "name": "stdout",
     "output_type": "stream",
     "text": [
      "{'Baseline': {'FCP': 0.6500905265678708,\n",
      "              'MAE': 0.05917396336232385,\n",
      "              'RMSE': 0.12147187661405374,\n",
      "              'Test Time': 0.10482621192932129},\n",
      " 'Co-clustering': {'FCP': 0.46321472404648584,\n",
      "                   'MAE': 0.053781868877303615,\n",
      "                   'RMSE': 0.13877816087297612,\n",
      "                   'Test Time': 0.13940095901489258},\n",
      " 'KNN': {'FCP': 0.6789834731229707,\n",
      "         'MAE': 0.053571280821458525,\n",
      "         'RMSE': 0.11652669226221443,\n",
      "         'Test Time': 4.428525924682617},\n",
      " 'KNN Baseline': {'FCP': 0.6823957864236674,\n",
      "                  'MAE': 0.05336323150229114,\n",
      "                  'RMSE': 0.11466194354561718,\n",
      "                  'Test Time': 3.660421133041382},\n",
      " 'KNN With Means': {'FCP': 0.6813968525256445,\n",
      "                    'MAE': 0.05343321251128365,\n",
      "                    'RMSE': 0.11476894909647409,\n",
      "                    'Test Time': 4.100782155990601},\n",
      " 'NMF': {'FCP': 0.6577475832837096,\n",
      "         'MAE': 0.04962774734747784,\n",
      "         'RMSE': 0.13361139538060549,\n",
      "         'Test Time': 0.2595100402832031},\n",
      " 'Random': {'FCP': 0.44294976502654315,\n",
      "            'MAE': 0.10224474517047741,\n",
      "            'RMSE': 0.16360696633649904,\n",
      "            'Test Time': 0.17536711692810059},\n",
      " 'SVD': {'FCP': 0.6180039752457479,\n",
      "         'MAE': 0.06060191063562316,\n",
      "         'RMSE': 0.12262437550224248,\n",
      "         'Test Time': 0.15678882598876953},\n",
      " 'SVDpp': {'FCP': 0.6417391534716105,\n",
      "           'MAE': 0.05926946277600355,\n",
      "           'RMSE': 0.12160177927478921,\n",
      "           'Test Time': 3.6510510444641113},\n",
      " 'Slope One': {'FCP': 0.6102681169953522,\n",
      "               'MAE': 0.06146127632842432,\n",
      "               'RMSE': 0.1244571833161244,\n",
      "               'Test Time': 2.6960248947143555},\n",
      " 'pearson (F)': {'FCP': 0.6823957864236674,\n",
      "                 'MAE': 0.05336323150229114,\n",
      "                 'RMSE': 0.11466194354561718,\n",
      "                 'Test Time': 3.660421133041382}}\n"
     ]
    }
   ],
   "source": [
    "pprint.pprint(results)"
   ]
  },
  {
   "cell_type": "markdown",
   "id": "479d568f",
   "metadata": {},
   "source": [
    "## Load in Champion Info"
   ]
  },
  {
   "cell_type": "code",
   "execution_count": 12,
   "id": "d7eb76a0",
   "metadata": {},
   "outputs": [],
   "source": [
    "filename = '../data/champion.json'\n",
    "with open(filename, 'r') as f:\n",
    "    champ_data = json.load(f)\n",
    "\n",
    "champion_list = []\n",
    "for i, c in enumerate(champ_data['data'].keys()):\n",
    "    champion_list.append(champ_data['data'][c]['id'])"
   ]
  },
  {
   "cell_type": "markdown",
   "id": "02d133b9",
   "metadata": {},
   "source": [
    "## Load in User's 5 Most played champs\n",
    "\n",
    "This is so we don't recommend them later."
   ]
  },
  {
   "cell_type": "code",
   "execution_count": 13,
   "id": "17f85686",
   "metadata": {},
   "outputs": [],
   "source": [
    "file_path = all_champs\n",
    "reader = Reader(sep=\",\", rating_scale=(0,1))\n",
    "data = Dataset.load_from_file(file_path, reader)"
   ]
  },
  {
   "cell_type": "code",
   "execution_count": 15,
   "id": "c3d0f175",
   "metadata": {},
   "outputs": [],
   "source": [
    "most_played = {}\n",
    "\n",
    "with open(file_path, 'r') as f:\n",
    "    reader_obj = csv.reader(f)\n",
    "    cur_id = ''\n",
    "    most = []\n",
    "    for row in reader_obj: \n",
    "        user_id, champion, score = row\n",
    "        if cur_id != user_id:\n",
    "            if cur_id != '':\n",
    "                most_played[cur_id] = most\n",
    "                most = []\n",
    "            cur_id = user_id\n",
    "        \n",
    "        most.append(champion)"
   ]
  },
  {
   "cell_type": "markdown",
   "id": "0f35d6a5",
   "metadata": {},
   "source": [
    "## Train kNN model on full dataset"
   ]
  },
  {
   "cell_type": "code",
   "execution_count": 29,
   "id": "0e7063bd",
   "metadata": {},
   "outputs": [
    {
     "name": "stdout",
     "output_type": "stream",
     "text": [
      "Estimating biases using als...\n",
      "Computing the pearson_baseline similarity matrix...\n",
      "Done computing similarity matrix.\n",
      "Predictions are the same\n"
     ]
    }
   ],
   "source": [
    "sim_options = {\n",
    "    \"name\": \"pearson_baseline\",\n",
    "    \"user_based\": False\n",
    "}\n",
    "\n",
    "trainset = data.build_full_trainset()\n",
    "algo = KNNWithMeans(sim_options=sim_options)\n",
    "\n",
    "algo.fit(trainset)\n",
    "predictions = algo.test(trainset.build_testset())\n",
    "\n",
    "# dump algorithm and reload it\n",
    "file_name = os.path.expanduser(\"../knn\")\n",
    "dump.dump(file_name, algo=algo)\n",
    "_, loaded_algo = dump.load(file_name)\n",
    "\n",
    "# Ensure that the algo is still the same\n",
    "predictions_loaded_algo = loaded_algo.test(trainset.build_testset())\n",
    "assert predictions == predictions_loaded_algo\n",
    "print(\"Predictions are the same\")"
   ]
  },
  {
   "cell_type": "markdown",
   "id": "e6b622cf",
   "metadata": {},
   "source": [
    "### Get Mean Rating of each champion"
   ]
  },
  {
   "cell_type": "code",
   "execution_count": 17,
   "id": "1e0efda6",
   "metadata": {},
   "outputs": [],
   "source": [
    "mean_rating = {}\n",
    "\n",
    "for rating in trainset.all_ratings():\n",
    "    __, iid, rate = rating\n",
    "    iid = trainset.to_raw_iid(iid)\n",
    "    if iid not in mean_rating.keys():\n",
    "        mean_rating[iid] = {'score': rate, 'n': 1, 'mean': rate}\n",
    "    else:\n",
    "        mean_rating[iid]['score'] += rate\n",
    "        mean_rating[iid]['n'] += 1\n",
    "        mean_rating[iid]['mean'] = mean_rating[iid]['score']/mean_rating[iid]['n']"
   ]
  },
  {
   "cell_type": "code",
   "execution_count": 23,
   "id": "22985278",
   "metadata": {},
   "outputs": [],
   "source": [
    "def get_top_n(uid, champion_list):\n",
    "    top_n = defaultdict(list)\n",
    "    for champ in champion_list:\n",
    "        top_n[uid].append((champ,algo.predict(uid, champ).est))\n",
    "        #top_n[uid].append((champ,algo.predict(uid, champ).est/mean_rating[iid]['mean']))\n",
    "\n",
    "    for uid, user_ratings in top_n.items():\n",
    "        user_ratings.sort(key=lambda x: x[1], reverse=True)\n",
    "        top_n[uid] = user_ratings\n",
    "\n",
    "    return top_n[uid]\n",
    "\n",
    "def recommendChampion(uid, champs_played, champion_list, algo, n=10, ignore=5):\n",
    "    print(f'User ID: {uid}')\n",
    "    print(f'Champs Played: {champs_played[:ignore]}')\n",
    "    print(f'Recommendations for {uid}')\n",
    "    count = 0\n",
    "    for rec in get_top_n(uid, champion_list):\n",
    "        if count >= 5:\n",
    "            break\n",
    "        if rec[0] not in champs_played[:ignore]:\n",
    "            print(count+1, rec[0])\n",
    "            count += 1\n"
   ]
  },
  {
   "cell_type": "code",
   "execution_count": 24,
   "id": "e26abdcf",
   "metadata": {},
   "outputs": [
    {
     "name": "stdout",
     "output_type": "stream",
     "text": [
      "User ID: tm8qKXR4kWDHvC1w6k_3EegyEgffTtnFkfbucEkfqXKjnroN\n",
      "Champs Played: ['Draven', 'Twitch', 'Jinx', 'Teemo', 'Rell', 'Senna', 'KogMaw', 'Mordekaiser', 'Brand', 'Gangplank']\n",
      "Recommendations for tm8qKXR4kWDHvC1w6k_3EegyEgffTtnFkfbucEkfqXKjnroN\n",
      "1 Jhin\n",
      "2 Ezreal\n",
      "3 Yasuo\n",
      "4 Caitlyn\n",
      "5 Lux\n",
      "User ID: L-mErQ9kponpVdi7KGnxm7nOjwWR7PiGTu41XBpi32RdJ6Q3\n",
      "Champs Played: ['Riven', 'MissFortune', 'Rakan', 'Evelynn', 'Vi', 'Fiora', 'Rengar', 'Akali', 'Xerath', 'Samira']\n",
      "Recommendations for L-mErQ9kponpVdi7KGnxm7nOjwWR7PiGTu41XBpi32RdJ6Q3\n",
      "1 Yasuo\n",
      "2 Katarina\n",
      "3 Irelia\n",
      "4 Lux\n",
      "5 Ezreal\n"
     ]
    }
   ],
   "source": [
    "test_IDS = []\n",
    "\n",
    "for i in range(2):\n",
    "    test_IDS.append(random.choice(list(most_played.keys())))\n",
    "    \n",
    "for i in test_IDS:\n",
    "    recommendChampion(i, most_played[i], champion_list, algo, n=5, ignore=10)"
   ]
  },
  {
   "cell_type": "code",
   "execution_count": null,
   "id": "37a05f3c",
   "metadata": {},
   "outputs": [],
   "source": []
  }
 ],
 "metadata": {
  "kernelspec": {
   "display_name": "Python 3",
   "language": "python",
   "name": "python3"
  },
  "language_info": {
   "codemirror_mode": {
    "name": "ipython",
    "version": 3
   },
   "file_extension": ".py",
   "mimetype": "text/x-python",
   "name": "python",
   "nbconvert_exporter": "python",
   "pygments_lexer": "ipython3",
   "version": "3.8.8"
  }
 },
 "nbformat": 4,
 "nbformat_minor": 5
}
