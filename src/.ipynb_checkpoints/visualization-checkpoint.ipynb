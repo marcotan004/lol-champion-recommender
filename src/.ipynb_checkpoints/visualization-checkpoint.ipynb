{
 "cells": [
  {
   "cell_type": "code",
   "execution_count": 3,
   "id": "e3b49de0",
   "metadata": {},
   "outputs": [],
   "source": [
    "import numpy as np\n",
    "import pandas as pd\n",
    "import os"
   ]
  },
  {
   "cell_type": "code",
   "execution_count": 4,
   "id": "c6ed5d2a",
   "metadata": {},
   "outputs": [],
   "source": [
    "df = pd.read_csv('../data/mastery.csv')\n",
    "n = pd.read_csv('../data/names.csv')\n",
    "\n",
    "s = df.sum().sort_values()"
   ]
  },
  {
   "cell_type": "code",
   "execution_count": 5,
   "id": "9e0f648d",
   "metadata": {},
   "outputs": [
    {
     "name": "stdout",
     "output_type": "stream",
     "text": [
      "Sum of Mastery Scores - correlated with champion popularity\n",
      "Naafiri      9.604107\n",
      "Milio       11.333576\n",
      "Nilah       18.401962\n",
      "Briar       18.622530\n",
      "Skarner     20.430357\n",
      "              ...    \n",
      "Kaisa      622.886821\n",
      "Jhin       647.346500\n",
      "Lux        731.394624\n",
      "Ezreal     735.413950\n",
      "Yasuo      832.362492\n",
      "Length: 165, dtype: float64\n"
     ]
    }
   ],
   "source": [
    "print('Sum of Mastery Scores - correlated with champion popularity')\n",
    "print(s)"
   ]
  },
  {
   "cell_type": "markdown",
   "id": "9d084ab9",
   "metadata": {},
   "source": [
    "## Check that different champion players have different preferences\n",
    "\n",
    "There is evidence that players who frequently play Yasuo play champions opposite of Lux, since Yasuo players have a much lower average mastery score on champions such as Lux, MissFortune, and Ashe while they play Zed, Yone, and Akali on average. This makes sense from a gameplay point of view, since champions such as Zed, Yone, and Akali play the same lane as Yasuo (mid/top), and are also part of the Assassin class. Lux takes the mid/bottom lane role, however her play style is to support the team and provide long distance range as opposed to Yasuo's riskier playstyle of assassinating the enemy's backline, putting himself at risk. Miss Fortune and Ashe are marksmen that are primarily played in the bottom lane role whose job it is to provide consistent long distance damage."
   ]
  },
  {
   "cell_type": "code",
   "execution_count": 17,
   "id": "8219bf53",
   "metadata": {},
   "outputs": [
    {
     "name": "stdout",
     "output_type": "stream",
     "text": [
      "Top 10 Average Mastery Scores of Sampled Players\n",
      "Kayn           0.093273\n",
      "MissFortune    0.094329\n",
      "Akali          0.097005\n",
      "Ashe           0.101537\n",
      "Caitlyn        0.109786\n",
      "Kaisa          0.116930\n",
      "Jhin           0.121522\n",
      "Lux            0.137300\n",
      "Ezreal         0.138054\n",
      "Yasuo          0.156254\n",
      "dtype: float64\n",
      "Average 10 Average Mastery Scores of Lux Players\n",
      "Seraphine      0.118817\n",
      "Ashe           0.122473\n",
      "Neeko          0.125886\n",
      "Senna          0.128750\n",
      "Caitlyn        0.139475\n",
      "Soraka         0.141826\n",
      "MissFortune    0.142664\n",
      "Ahri           0.168210\n",
      "Morgana        0.217700\n",
      "Lux            1.000000\n",
      "dtype: float64\n",
      "Top 10 Average Mastery Scores of Yasuo Players\n",
      "Katarina    0.100354\n",
      "MasterYi    0.101943\n",
      "LeeSin      0.110254\n",
      "Kayn        0.114750\n",
      "Irelia      0.115508\n",
      "Ezreal      0.131886\n",
      "Yone        0.135957\n",
      "Akali       0.161879\n",
      "Zed         0.211206\n",
      "Yasuo       1.000000\n",
      "dtype: float64\n"
     ]
    }
   ],
   "source": [
    "s = df.mean().sort_values()\n",
    "yasuo = df.loc[(df['Yasuo']==1.00)]\n",
    "yasuo = yasuo.mean().sort_values()\n",
    "#yasuo = (yasuo-s).sort_values()\n",
    "lux = df.loc[(df['Lux']==1.00)]\n",
    "lux = lux.mean().sort_values()\n",
    "#lux = (lux-s).sort_values()\n",
    "print('Top 10 Average Mastery Scores of Sampled Players')\n",
    "print(s.tail(10))\n",
    "print('Average 10 Average Mastery Scores of Lux Players')\n",
    "print(lux.tail(10))\n",
    "print('Top 10 Average Mastery Scores of Yasuo Players')\n",
    "print(yasuo.tail(10))"
   ]
  },
  {
   "cell_type": "code",
   "execution_count": 20,
   "id": "1c06f2c0",
   "metadata": {},
   "outputs": [
    {
     "name": "stdout",
     "output_type": "stream",
     "text": [
      "Top 5 Champions (Popularity)\n",
      "Kaisa     0.116930\n",
      "Jhin      0.121522\n",
      "Lux       0.137300\n",
      "Ezreal    0.138054\n",
      "Yasuo     0.156254\n",
      "dtype: float64\n",
      "Top 5 Champions More Popular With Lux Players\n",
      "Seraphine    0.092792\n",
      "Ahri         0.101515\n",
      "Soraka       0.101599\n",
      "Morgana      0.147044\n",
      "Lux          0.862700\n",
      "dtype: float64\n",
      "Top 5 Champions More Popular with Yasuo Players\n",
      "Irelia    0.044312\n",
      "Akali     0.064874\n",
      "Yone      0.073106\n",
      "Zed       0.135663\n",
      "Yasuo     0.843746\n",
      "dtype: float64\n",
      "Top 5 Champions Least Popular With Lux Players\n",
      "Yasuo    -0.116615\n",
      "Zed      -0.064688\n",
      "Kayn     -0.062674\n",
      "Darius   -0.057893\n",
      "Jax      -0.054649\n",
      "dtype: float64\n",
      "Top 5 Champions Least Popular With Yasuo Players\n",
      "MissFortune   -0.056314\n",
      "Lux           -0.054029\n",
      "Ashe          -0.054025\n",
      "Caitlyn       -0.049303\n",
      "Morgana       -0.044718\n",
      "dtype: float64\n"
     ]
    }
   ],
   "source": [
    "s = df.mean().sort_values()\n",
    "yasuo = df.loc[(df['Yasuo']==1.00)]\n",
    "yasuo = yasuo.mean().sort_values()\n",
    "yasuo = (yasuo-s).sort_values()\n",
    "lux = df.loc[(df['Lux']==1.00)]\n",
    "lux = lux.mean().sort_values()\n",
    "lux = (lux-s).sort_values()\n",
    "\n",
    "print('Top 5 Champions (Popularity)')\n",
    "print(s.tail(5))\n",
    "print('Top 5 Champions More Popular With Lux Players')\n",
    "print(lux.tail(5))\n",
    "print('Top 5 Champions More Popular with Yasuo Players')\n",
    "print(yasuo.tail(5))\n",
    "print('Top 5 Champions Least Popular With Lux Players')\n",
    "print(lux.head(5))\n",
    "print('Top 5 Champions Least Popular With Yasuo Players')\n",
    "print(yasuo.head(5))"
   ]
  },
  {
   "cell_type": "code",
   "execution_count": 21,
   "id": "d7c6bdff",
   "metadata": {},
   "outputs": [
    {
     "data": {
      "text/plain": [
       "array([[<AxesSubplot:title={'center':'Yasuo'}>,\n",
       "        <AxesSubplot:title={'center':'Zed'}>],\n",
       "       [<AxesSubplot:title={'center':'Lux'}>, <AxesSubplot:>]],\n",
       "      dtype=object)"
      ]
     },
     "execution_count": 21,
     "metadata": {},
     "output_type": "execute_result"
    },
    {
     "data": {
      "image/png": "[encoded data removed]",
      "text/plain": [
       "<Figure size 432x288 with 4 Axes>"
      ]
     },
     "metadata": {
      "needs_background": "light"
     },
     "output_type": "display_data"
    }
   ],
   "source": [
    "df.hist(column=['Yasuo', 'Zed', 'Lux'], density=True)"
   ]
  },
  {
   "cell_type": "code",
   "execution_count": 22,
   "id": "42a69492",
   "metadata": {},
   "outputs": [
    {
     "data": {
      "text/plain": [
       "array([[<AxesSubplot:title={'center':'Zed'}>,\n",
       "        <AxesSubplot:title={'center':'Lux'}>]], dtype=object)"
      ]
     },
     "execution_count": 22,
     "metadata": {},
     "output_type": "execute_result"
    },
    {
     "data": {
      "image/png": "[encoded data removed]",
      "text/plain": [
       "<Figure size 432x288 with 2 Axes>"
      ]
     },
     "metadata": {
      "needs_background": "light"
     },
     "output_type": "display_data"
    }
   ],
   "source": [
    "yasuo = df.loc[(df['Yasuo']==1.00)]\n",
    "yasuo.hist(column=['Zed', 'Lux'], density=True)"
   ]
  },
  {
   "cell_type": "code",
   "execution_count": null,
   "id": "8a45740c",
   "metadata": {},
   "outputs": [],
   "source": []
  }
 ],
 "metadata": {
  "kernelspec": {
   "display_name": "Python 3",
   "language": "python",
   "name": "python3"
  },
  "language_info": {
   "codemirror_mode": {
    "name": "ipython",
    "version": 3
   },
   "file_extension": ".py",
   "mimetype": "text/x-python",
   "name": "python",
   "nbconvert_exporter": "python",
   "pygments_lexer": "ipython3",
   "version": "3.8.8"
  }
 },
 "nbformat": 4,
 "nbformat_minor": 5
}
