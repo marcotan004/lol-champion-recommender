{
 "cells": [
  {
   "cell_type": "code",
   "execution_count": 158,
   "id": "32c86440",
   "metadata": {},
   "outputs": [],
   "source": [
    "import csv \n",
    "import json\n",
    "import numpy as np\n",
    "import pandas as pd\n",
    "import matplotlib.pyplot as plt\n",
    "import os"
   ]
  },
  {
   "cell_type": "code",
   "execution_count": 133,
   "id": "e4036774",
   "metadata": {},
   "outputs": [],
   "source": [
    "filename = '../data/champion.json'\n",
    "with open(filename, 'r') as f:\n",
    "    champ_data = json.load(f)\n",
    "\n",
    "# contains index of championId and name\n",
    "id_champ_map = {}\n",
    "champion_list = []\n",
    "for i, c in enumerate(champ_data['data'].keys()):\n",
    "    id_champ_map[int(champ_data['data'][c]['key'])] = {'champion': champ_data['data'][c]['id'], 'index': i}\n",
    "    champion_list.append(champ_data['data'][c]['id'])"
   ]
  },
  {
   "cell_type": "code",
   "execution_count": 148,
   "id": "171a87bc",
   "metadata": {},
   "outputs": [
    {
     "name": "stdout",
     "output_type": "stream",
     "text": [
      "users: 5326\n",
      "ratings: 878955\n"
     ]
    }
   ],
   "source": [
    "filename = '../data/mastery_data.json'\n",
    "\n",
    "with open(filename, 'r') as f:\n",
    "    data = json.load(f)\n",
    "\n",
    "skipped = {}\n",
    "ratings = [] # list of items\n",
    "r = np.zeros((len(data.keys()), len(champion_list)))\n",
    "percent = 0.9\n",
    "skip = 4\n",
    "for i, key in enumerate(data.keys()):\n",
    "    used = []\n",
    "    for j, entry in enumerate(data[key]):\n",
    "        if j == 0:\n",
    "            # sorted in descending order\n",
    "            maximum = entry['championPoints']\n",
    "        \n",
    "        if j + 1 == skip and i > (len(data.keys())*percent):\n",
    "            item = id_champ_map[entry['championId']]['champion']\n",
    "            skipped[key] = id_champ_map[entry['championId']]['champion'] # add key, item, and rank #\n",
    "        else:    \n",
    "            score = entry['championPoints']/maximum\n",
    "            item = id_champ_map[entry['championId']]['champion']\n",
    "            ratings.append([key, item, score])\n",
    "            used.append(item)\n",
    "    # set unknown champion IDs to zero\n",
    "    for champ in champion_list:\n",
    "        if champ not in used:\n",
    "            ratings.append([key, champ, 0])\n",
    "    else:\n",
    "        continue\n",
    "\n",
    "print(f'users: {i}')\n",
    "print(f'ratings: {len(ratings)}')\n",
    "with open('../data/surprise_data_test.csv', 'w', newline='') as f:\n",
    "    writer = csv.writer(f)\n",
    "    writer.writerows(ratings)\n",
    "    \n",
    "with open('../data/surprise_data_omit.csv', 'w', newline='') as f:\n",
    "    json.dump(skipped, f, indent=4)"
   ]
  },
  {
   "cell_type": "code",
   "execution_count": 149,
   "id": "c1a5039e",
   "metadata": {},
   "outputs": [],
   "source": [
    "import pprint\n",
    "\n",
    "from surprise import Dataset, Reader, accuracy, KNNWithMeans, SVD, NormalPredictor\n",
    "from collections import defaultdict"
   ]
  },
  {
   "cell_type": "code",
   "execution_count": 150,
   "id": "8914f4b6",
   "metadata": {},
   "outputs": [],
   "source": [
    "test_path = os.path.expanduser('../data/surprise_data_test.csv')\n",
    "file_path = test_path\n",
    "reader = Reader(sep=',', rating_scale=(0,1))\n",
    "data = Dataset.load_from_file(file_path, reader)"
   ]
  },
  {
   "cell_type": "code",
   "execution_count": 151,
   "id": "74373704",
   "metadata": {},
   "outputs": [],
   "source": [
    "most_played = {}\n",
    "\n",
    "with open(file_path, 'r') as f:\n",
    "    reader_obj = csv.reader(f)\n",
    "    cur_id = ''\n",
    "    most = []\n",
    "    for row in reader_obj: \n",
    "        user_id, champion, score = row\n",
    "        if cur_id != user_id:\n",
    "            if cur_id != '':\n",
    "                most_played[cur_id] = most\n",
    "                most = []\n",
    "            cur_id = user_id\n",
    "        \n",
    "        most.append(champion)"
   ]
  },
  {
   "cell_type": "code",
   "execution_count": 152,
   "id": "e62aa5e9",
   "metadata": {},
   "outputs": [
    {
     "data": {
      "text/plain": [
       "<surprise.prediction_algorithms.random_pred.NormalPredictor at 0x7f83a15b2850>"
      ]
     },
     "execution_count": 152,
     "metadata": {},
     "output_type": "execute_result"
    }
   ],
   "source": [
    "sim_options = {\n",
    "    \"name\": \"pearson_baseline\",\n",
    "    \"user_based\": False\n",
    "}\n",
    "\n",
    "trainset = data.build_full_trainset()\n",
    "#algo = KNNWithMeans(sim_options=sim_options)\n",
    "#algo = SVD()\n",
    "algo = NormalPredictor()\n",
    "algo.fit(trainset)"
   ]
  },
  {
   "cell_type": "code",
   "execution_count": 153,
   "id": "18df34a6",
   "metadata": {},
   "outputs": [],
   "source": [
    "mean_rating = {}\n",
    "\n",
    "for rating in trainset.all_ratings():\n",
    "    __, iid, rate = rating\n",
    "    iid = trainset.to_raw_iid(iid)\n",
    "    if iid not in mean_rating.keys():\n",
    "        mean_rating[iid] = {'score': rate, 'n': 1, 'mean': rate}\n",
    "    else:\n",
    "        mean_rating[iid]['score'] += rate\n",
    "        mean_rating[iid]['n'] += 1\n",
    "        mean_rating[iid]['mean'] = mean_rating[iid]['score']/mean_rating[iid]['n']"
   ]
  },
  {
   "cell_type": "code",
   "execution_count": 154,
   "id": "98f1c1d9",
   "metadata": {},
   "outputs": [],
   "source": [
    "def get_top_n(uid, algo, champion_list, champs_played, n=10, ignore=5):\n",
    "    top_n = defaultdict(list)\n",
    "    for champ in champion_list:\n",
    "        if champ not in champs_played[:ignore]:\n",
    "            #top_n[uid].append((champ,algo.predict(uid, champ).est))\n",
    "            top_n[uid].append((champ,algo.predict(uid, champ).est/mean_rating[iid]['mean']))\n",
    "\n",
    "    for uid, user_ratings in top_n.items():\n",
    "        user_ratings.sort(key=lambda x: x[1], reverse=True)\n",
    "        top_n[uid] = user_ratings[:n]\n",
    "\n",
    "    return top_n[uid]\n",
    "\n",
    "def recommendChampion(uid, champs_played, champion_list, algo, n=10, ignore=5):\n",
    "    print(f'User ID: {uid}')\n",
    "    pprint.pprint(champs_played[:ignore])\n",
    "    print(f'Recommendations for {uid}')\n",
    "    count = 0\n",
    "    for rec in get_top_n(uid, algo, champion_list, champs_played, n=n, ignore=ignore):\n",
    "        print(rec[0])"
   ]
  },
  {
   "cell_type": "code",
   "execution_count": 155,
   "id": "d045b7e3",
   "metadata": {},
   "outputs": [
    {
     "name": "stdout",
     "output_type": "stream",
     "text": [
      "0.035916824196597356\n",
      "0.0661625708884688\n",
      "0.11153119092627599\n"
     ]
    }
   ],
   "source": [
    "inside_5 = 0\n",
    "inside_10 = 0\n",
    "inside_15 = 0\n",
    "tot = 0\n",
    "\n",
    "for user in skipped.keys():\n",
    "    if user not in most_played.keys():\n",
    "        continue\n",
    "    \n",
    "    top_n = get_top_n(user, algo, champion_list, most_played[user], n=15)\n",
    "    for i, item in enumerate(top_n[:15]):\n",
    "        if skipped[user] == item[0]:\n",
    "            if i < 5: \n",
    "                inside_5 += 1\n",
    "            if i < 10:\n",
    "                inside_10 += 1\n",
    "            if i < 15:\n",
    "                inside_15 += 1\n",
    "\n",
    "    tot += 1\n",
    "\n",
    "print(inside_5/tot)\n",
    "print(inside_10/tot)\n",
    "print(inside_15/tot)"
   ]
  },
  {
   "cell_type": "markdown",
   "id": "55a27a33",
   "metadata": {},
   "source": [
    "# Rank Metric (KNN, SVD, Random) on Test data\n",
    "\n",
    "\n",
    "The sklearn surprise package doesn't let you present a new vector with champion rank scores to its KNN model, so I had to find a new way to test unknown high ranked values. To do this, I removed the nth ranked character's data in 10% of users. For example if n = 1, then I removed the top ranked character from 10% of users and then trained on that dataset. I then trained and ran the KNN, SVD, and Random models and calculated the probability that the removed character was suggested. This showed that KNN performed slightly better than SVD, and that both algorithms performed marginally better than random. It also showed that the KNN and SVD algorithms are more likely to suggest higher ranked champions since they decreased as n increased."
   ]
  },
  {
   "cell_type": "markdown",
   "id": "b0686dcf",
   "metadata": {},
   "source": [
    "# Dataset with Top 25 Champion Mastery Points Saved (5.4k users)"
   ]
  },
  {
   "cell_type": "code",
   "execution_count": 171,
   "id": "cd561603",
   "metadata": {},
   "outputs": [
    {
     "data": {
      "text/plain": [
       "<matplotlib.legend.Legend at 0x7f829307bf40>"
      ]
     },
     "execution_count": 171,
     "metadata": {},
     "output_type": "execute_result"
    },
    {
     "data": {
      "image/png": "[encoded data removed]",
      "text/plain": [
       "<Figure size 432x288 with 1 Axes>"
      ]
     },
     "metadata": {
      "needs_background": "light"
     },
     "output_type": "display_data"
    }
   ],
   "source": [
    "filename = '../data/test_data/rank_metric_25_vals.json'\n",
    "with open(filename, 'r') as f:\n",
    "    champ_data = json.load(f)\n",
    "x = np.arange(1, 10)\n",
    "\n",
    "plt.plot(x, champ_data['KNN']['top5'], label = 'KNN')\n",
    "plt.plot(x, champ_data['SVD']['top5'], label = 'SVD')\n",
    "plt.plot(x,champ_data['Random']['top5'], label = 'Random')\n",
    "plt.xlabel(\"Champion Rank removed (0.1 of dataset)\")\n",
    "plt.ylabel(\"Probability in Top 5\")\n",
    "plt.legend()"
   ]
  },
  {
   "cell_type": "code",
   "execution_count": 172,
   "id": "b19aa481",
   "metadata": {},
   "outputs": [
    {
     "data": {
      "text/plain": [
       "<matplotlib.legend.Legend at 0x7f83751fd310>"
      ]
     },
     "execution_count": 172,
     "metadata": {},
     "output_type": "execute_result"
    },
    {
     "data": {
      "image/png": "[encoded data removed]",
      "text/plain": [
       "<Figure size 432x288 with 1 Axes>"
      ]
     },
     "metadata": {
      "needs_background": "light"
     },
     "output_type": "display_data"
    }
   ],
   "source": [
    "plt.plot(x, champ_data['KNN']['top10'], label = 'KNN')\n",
    "plt.plot(x, champ_data['SVD']['top10'], label = 'SVD')\n",
    "plt.plot(x,champ_data['Random']['top10'], label = 'Random')\n",
    "plt.xlabel(\"Champion Rank removed (0.1 of dataset)\")\n",
    "plt.ylabel(\"Probability in Top 10\")\n",
    "plt.legend()"
   ]
  },
  {
   "cell_type": "code",
   "execution_count": 173,
   "id": "c5897303",
   "metadata": {},
   "outputs": [
    {
     "data": {
      "text/plain": [
       "<matplotlib.legend.Legend at 0x7f826f7f6cd0>"
      ]
     },
     "execution_count": 173,
     "metadata": {},
     "output_type": "execute_result"
    },
    {
     "data": {
      "image/png": "[encoded data removed]",
      "text/plain": [
       "<Figure size 432x288 with 1 Axes>"
      ]
     },
     "metadata": {
      "needs_background": "light"
     },
     "output_type": "display_data"
    }
   ],
   "source": [
    "plt.plot(x, champ_data['KNN']['top15'], label = 'KNN')\n",
    "plt.plot(x, champ_data['SVD']['top15'], label = 'SVD')\n",
    "plt.plot(x,champ_data['Random']['top15'], label = 'Random')\n",
    "plt.xlabel(\"Champion Rank removed (0.1 of dataset)\")\n",
    "plt.ylabel(\"Probability in Top 15\")\n",
    "plt.legend()"
   ]
  },
  {
   "cell_type": "code",
   "execution_count": 174,
   "id": "14c38664",
   "metadata": {},
   "outputs": [
    {
     "name": "stdout",
     "output_type": "stream",
     "text": [
      "{'KNN': {'top10': [0.288135593220339,\n",
      "                   0.288135593220339,\n",
      "                   0.27977315689981097,\n",
      "                   0.2533081285444234,\n",
      "                   0.23062381852551986,\n",
      "                   0.20643939393939395,\n",
      "                   0.19507575757575757,\n",
      "                   0.1856060606060606,\n",
      "                   0.15939278937381404],\n",
      "         'top15': [0.3860640301318267,\n",
      "                   0.3992467043314501,\n",
      "                   0.3799621928166352,\n",
      "                   0.3591682419659735,\n",
      "                   0.3440453686200378,\n",
      "                   0.2916666666666667,\n",
      "                   0.30492424242424243,\n",
      "                   0.2689393939393939,\n",
      "                   0.25616698292220114],\n",
      "         'top5': [0.1694915254237288,\n",
      "                  0.16195856873822975,\n",
      "                  0.15879017013232513,\n",
      "                  0.15311909262759923,\n",
      "                  0.14366729678638943,\n",
      "                  0.10606060606060606,\n",
      "                  0.10984848484848485,\n",
      "                  0.09848484848484848,\n",
      "                  0.07969639468690702]},\n",
      " 'Random': {'top10': [0.05084745762711865,\n",
      "                      0.064030131826742,\n",
      "                      0.08128544423440454,\n",
      "                      0.07561436672967864,\n",
      "                      0.08506616257088846,\n",
      "                      0.05303030303030303,\n",
      "                      0.07007575757575757,\n",
      "                      0.06439393939393939,\n",
      "                      0.06261859582542695],\n",
      "            'top15': [0.07532956685499058,\n",
      "                      0.10357815442561205,\n",
      "                      0.10964083175803403,\n",
      "                      0.09829867674858223,\n",
      "                      0.11342155009451796,\n",
      "                      0.08901515151515152,\n",
      "                      0.11174242424242424,\n",
      "                      0.0946969696969697,\n",
      "                      0.09867172675521822],\n",
      "            'top5': [0.02448210922787194,\n",
      "                     0.03389830508474576,\n",
      "                     0.03213610586011342,\n",
      "                     0.02835538752362949,\n",
      "                     0.03969754253308128,\n",
      "                     0.01893939393939394,\n",
      "                     0.028409090909090908,\n",
      "                     0.026515151515151516,\n",
      "                     0.024667931688804556]},\n",
      " 'SVD': {'top10': [0.2617702448210923,\n",
      "                   0.2335216572504708,\n",
      "                   0.22873345935727787,\n",
      "                   0.21550094517958412,\n",
      "                   0.19848771266540643,\n",
      "                   0.17424242424242425,\n",
      "                   0.17613636363636365,\n",
      "                   0.1856060606060606,\n",
      "                   0.19165085388994307],\n",
      "         'top15': [0.3220338983050847,\n",
      "                   0.3107344632768362,\n",
      "                   0.29300567107750475,\n",
      "                   0.2948960302457467,\n",
      "                   0.28544423440453687,\n",
      "                   0.23484848484848486,\n",
      "                   0.24053030303030304,\n",
      "                   0.2518939393939394,\n",
      "                   0.2618595825426945],\n",
      "         'top5': [0.16195856873822975,\n",
      "                  0.15254237288135594,\n",
      "                  0.14366729678638943,\n",
      "                  0.12476370510396975,\n",
      "                  0.11153119092627599,\n",
      "                  0.09090909090909091,\n",
      "                  0.09848484848484848,\n",
      "                  0.0946969696969697,\n",
      "                  0.11954459203036052]}}\n"
     ]
    }
   ],
   "source": [
    "pprint.pprint(champ_data)"
   ]
  },
  {
   "cell_type": "markdown",
   "id": "ff6c5342",
   "metadata": {},
   "source": [
    "# Dataset with All Champion Mastery Points Saved (2.6k users)"
   ]
  },
  {
   "cell_type": "code",
   "execution_count": null,
   "id": "da2fa067",
   "metadata": {},
   "outputs": [],
   "source": [
    "filename = '../data/test_data/rank_metric_all_vals.json'\n",
    "with open(filename, 'r') as f:\n",
    "    champ_data = json.load(f)\n",
    "x = np.arange(1, 10)\n",
    "\n",
    "plt.plot(x, champ_data['KNN']['top5'], label = 'KNN')\n",
    "plt.plot(x, champ_data['SVD']['top5'], label = 'SVD')\n",
    "plt.plot(x,champ_data['Random']['top5'], label = 'Random')\n",
    "plt.xlabel(\"Champion Rank removed (0.1 of dataset)\")\n",
    "plt.ylabel(\"Probability in Top 5\")\n",
    "plt.legend()"
   ]
  }
 ],
 "metadata": {
  "kernelspec": {
   "display_name": "Python 3",
   "language": "python",
   "name": "python3"
  },
  "language_info": {
   "codemirror_mode": {
    "name": "ipython",
    "version": 3
   },
   "file_extension": ".py",
   "mimetype": "text/x-python",
   "name": "python",
   "nbconvert_exporter": "python",
   "pygments_lexer": "ipython3",
   "version": "3.8.8"
  }
 },
 "nbformat": 4,
 "nbformat_minor": 5
}
