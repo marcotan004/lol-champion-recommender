{
 "cells": [
  {
   "cell_type": "code",
   "execution_count": 36,
   "id": "b5a9d64b",
   "metadata": {},
   "outputs": [],
   "source": [
    "import csv\n",
    "import json\n",
    "import requests\n",
    "import numpy as np\n",
    "import pandas as pd\n",
    "import os\n",
    "\n",
    "from surprise import BaselineOnly, Dataset, Reader\n",
    "from surprise.model_selection import cross_validate"
   ]
  },
  {
   "cell_type": "markdown",
   "id": "0570e754",
   "metadata": {},
   "source": [
    "## Load data and map champion ID to Name and alphabetical index"
   ]
  },
  {
   "cell_type": "code",
   "execution_count": 2,
   "id": "dd6142e0",
   "metadata": {},
   "outputs": [
    {
     "name": "stdout",
     "output_type": "stream",
     "text": [
      "['Aatrox', 'Ahri', 'Akali', 'Akshan', 'Alistar', 'Amumu', 'Anivia', 'Annie', 'Aphelios', 'Ashe', 'AurelionSol', 'Azir', 'Bard', 'Belveth', 'Blitzcrank', 'Brand', 'Braum', 'Briar', 'Caitlyn', 'Camille', 'Cassiopeia', 'Chogath', 'Corki', 'Darius', 'Diana', 'Draven', 'DrMundo', 'Ekko', 'Elise', 'Evelynn', 'Ezreal', 'Fiddlesticks', 'Fiora', 'Fizz', 'Galio', 'Gangplank', 'Garen', 'Gnar', 'Gragas', 'Graves', 'Gwen', 'Hecarim', 'Heimerdinger', 'Illaoi', 'Irelia', 'Ivern', 'Janna', 'JarvanIV', 'Jax', 'Jayce', 'Jhin', 'Jinx', 'Kaisa', 'Kalista', 'Karma', 'Karthus', 'Kassadin', 'Katarina', 'Kayle', 'Kayn', 'Kennen', 'Khazix', 'Kindred', 'Kled', 'KogMaw', 'KSante', 'Leblanc', 'LeeSin', 'Leona', 'Lillia', 'Lissandra', 'Lucian', 'Lulu', 'Lux', 'Malphite', 'Malzahar', 'Maokai', 'MasterYi', 'Milio', 'MissFortune', 'MonkeyKing', 'Mordekaiser', 'Morgana', 'Naafiri', 'Nami', 'Nasus', 'Nautilus', 'Neeko', 'Nidalee', 'Nilah', 'Nocturne', 'Nunu', 'Olaf', 'Orianna', 'Ornn', 'Pantheon', 'Poppy', 'Pyke', 'Qiyana', 'Quinn', 'Rakan', 'Rammus', 'RekSai', 'Rell', 'Renata', 'Renekton', 'Rengar', 'Riven', 'Rumble', 'Ryze', 'Samira', 'Sejuani', 'Senna', 'Seraphine', 'Sett', 'Shaco', 'Shen', 'Shyvana', 'Singed', 'Sion', 'Sivir', 'Skarner', 'Sona', 'Soraka', 'Swain', 'Sylas', 'Syndra', 'TahmKench', 'Taliyah', 'Talon', 'Taric', 'Teemo', 'Thresh', 'Tristana', 'Trundle', 'Tryndamere', 'TwistedFate', 'Twitch', 'Udyr', 'Urgot', 'Varus', 'Vayne', 'Veigar', 'Velkoz', 'Vex', 'Vi', 'Viego', 'Viktor', 'Vladimir', 'Volibear', 'Warwick', 'Xayah', 'Xerath', 'XinZhao', 'Yasuo', 'Yone', 'Yorick', 'Yuumi', 'Zac', 'Zed', 'Zeri', 'Ziggs', 'Zilean', 'Zoe', 'Zyra']\n",
      "165\n",
      "{266: {'champion': 'Aatrox', 'index': 0}, 103: {'champion': 'Ahri', 'index': 1}, 84: {'champion': 'Akali', 'index': 2}, 166: {'champion': 'Akshan', 'index': 3}, 12: {'champion': 'Alistar', 'index': 4}, 32: {'champion': 'Amumu', 'index': 5}, 34: {'champion': 'Anivia', 'index': 6}, 1: {'champion': 'Annie', 'index': 7}, 523: {'champion': 'Aphelios', 'index': 8}, 22: {'champion': 'Ashe', 'index': 9}, 136: {'champion': 'AurelionSol', 'index': 10}, 268: {'champion': 'Azir', 'index': 11}, 432: {'champion': 'Bard', 'index': 12}, 200: {'champion': 'Belveth', 'index': 13}, 53: {'champion': 'Blitzcrank', 'index': 14}, 63: {'champion': 'Brand', 'index': 15}, 201: {'champion': 'Braum', 'index': 16}, 233: {'champion': 'Briar', 'index': 17}, 51: {'champion': 'Caitlyn', 'index': 18}, 164: {'champion': 'Camille', 'index': 19}, 69: {'champion': 'Cassiopeia', 'index': 20}, 31: {'champion': 'Chogath', 'index': 21}, 42: {'champion': 'Corki', 'index': 22}, 122: {'champion': 'Darius', 'index': 23}, 131: {'champion': 'Diana', 'index': 24}, 119: {'champion': 'Draven', 'index': 25}, 36: {'champion': 'DrMundo', 'index': 26}, 245: {'champion': 'Ekko', 'index': 27}, 60: {'champion': 'Elise', 'index': 28}, 28: {'champion': 'Evelynn', 'index': 29}, 81: {'champion': 'Ezreal', 'index': 30}, 9: {'champion': 'Fiddlesticks', 'index': 31}, 114: {'champion': 'Fiora', 'index': 32}, 105: {'champion': 'Fizz', 'index': 33}, 3: {'champion': 'Galio', 'index': 34}, 41: {'champion': 'Gangplank', 'index': 35}, 86: {'champion': 'Garen', 'index': 36}, 150: {'champion': 'Gnar', 'index': 37}, 79: {'champion': 'Gragas', 'index': 38}, 104: {'champion': 'Graves', 'index': 39}, 887: {'champion': 'Gwen', 'index': 40}, 120: {'champion': 'Hecarim', 'index': 41}, 74: {'champion': 'Heimerdinger', 'index': 42}, 420: {'champion': 'Illaoi', 'index': 43}, 39: {'champion': 'Irelia', 'index': 44}, 427: {'champion': 'Ivern', 'index': 45}, 40: {'champion': 'Janna', 'index': 46}, 59: {'champion': 'JarvanIV', 'index': 47}, 24: {'champion': 'Jax', 'index': 48}, 126: {'champion': 'Jayce', 'index': 49}, 202: {'champion': 'Jhin', 'index': 50}, 222: {'champion': 'Jinx', 'index': 51}, 145: {'champion': 'Kaisa', 'index': 52}, 429: {'champion': 'Kalista', 'index': 53}, 43: {'champion': 'Karma', 'index': 54}, 30: {'champion': 'Karthus', 'index': 55}, 38: {'champion': 'Kassadin', 'index': 56}, 55: {'champion': 'Katarina', 'index': 57}, 10: {'champion': 'Kayle', 'index': 58}, 141: {'champion': 'Kayn', 'index': 59}, 85: {'champion': 'Kennen', 'index': 60}, 121: {'champion': 'Khazix', 'index': 61}, 203: {'champion': 'Kindred', 'index': 62}, 240: {'champion': 'Kled', 'index': 63}, 96: {'champion': 'KogMaw', 'index': 64}, 897: {'champion': 'KSante', 'index': 65}, 7: {'champion': 'Leblanc', 'index': 66}, 64: {'champion': 'LeeSin', 'index': 67}, 89: {'champion': 'Leona', 'index': 68}, 876: {'champion': 'Lillia', 'index': 69}, 127: {'champion': 'Lissandra', 'index': 70}, 236: {'champion': 'Lucian', 'index': 71}, 117: {'champion': 'Lulu', 'index': 72}, 99: {'champion': 'Lux', 'index': 73}, 54: {'champion': 'Malphite', 'index': 74}, 90: {'champion': 'Malzahar', 'index': 75}, 57: {'champion': 'Maokai', 'index': 76}, 11: {'champion': 'MasterYi', 'index': 77}, 902: {'champion': 'Milio', 'index': 78}, 21: {'champion': 'MissFortune', 'index': 79}, 62: {'champion': 'MonkeyKing', 'index': 80}, 82: {'champion': 'Mordekaiser', 'index': 81}, 25: {'champion': 'Morgana', 'index': 82}, 950: {'champion': 'Naafiri', 'index': 83}, 267: {'champion': 'Nami', 'index': 84}, 75: {'champion': 'Nasus', 'index': 85}, 111: {'champion': 'Nautilus', 'index': 86}, 518: {'champion': 'Neeko', 'index': 87}, 76: {'champion': 'Nidalee', 'index': 88}, 895: {'champion': 'Nilah', 'index': 89}, 56: {'champion': 'Nocturne', 'index': 90}, 20: {'champion': 'Nunu', 'index': 91}, 2: {'champion': 'Olaf', 'index': 92}, 61: {'champion': 'Orianna', 'index': 93}, 516: {'champion': 'Ornn', 'index': 94}, 80: {'champion': 'Pantheon', 'index': 95}, 78: {'champion': 'Poppy', 'index': 96}, 555: {'champion': 'Pyke', 'index': 97}, 246: {'champion': 'Qiyana', 'index': 98}, 133: {'champion': 'Quinn', 'index': 99}, 497: {'champion': 'Rakan', 'index': 100}, 33: {'champion': 'Rammus', 'index': 101}, 421: {'champion': 'RekSai', 'index': 102}, 526: {'champion': 'Rell', 'index': 103}, 888: {'champion': 'Renata', 'index': 104}, 58: {'champion': 'Renekton', 'index': 105}, 107: {'champion': 'Rengar', 'index': 106}, 92: {'champion': 'Riven', 'index': 107}, 68: {'champion': 'Rumble', 'index': 108}, 13: {'champion': 'Ryze', 'index': 109}, 360: {'champion': 'Samira', 'index': 110}, 113: {'champion': 'Sejuani', 'index': 111}, 235: {'champion': 'Senna', 'index': 112}, 147: {'champion': 'Seraphine', 'index': 113}, 875: {'champion': 'Sett', 'index': 114}, 35: {'champion': 'Shaco', 'index': 115}, 98: {'champion': 'Shen', 'index': 116}, 102: {'champion': 'Shyvana', 'index': 117}, 27: {'champion': 'Singed', 'index': 118}, 14: {'champion': 'Sion', 'index': 119}, 15: {'champion': 'Sivir', 'index': 120}, 72: {'champion': 'Skarner', 'index': 121}, 37: {'champion': 'Sona', 'index': 122}, 16: {'champion': 'Soraka', 'index': 123}, 50: {'champion': 'Swain', 'index': 124}, 517: {'champion': 'Sylas', 'index': 125}, 134: {'champion': 'Syndra', 'index': 126}, 223: {'champion': 'TahmKench', 'index': 127}, 163: {'champion': 'Taliyah', 'index': 128}, 91: {'champion': 'Talon', 'index': 129}, 44: {'champion': 'Taric', 'index': 130}, 17: {'champion': 'Teemo', 'index': 131}, 412: {'champion': 'Thresh', 'index': 132}, 18: {'champion': 'Tristana', 'index': 133}, 48: {'champion': 'Trundle', 'index': 134}, 23: {'champion': 'Tryndamere', 'index': 135}, 4: {'champion': 'TwistedFate', 'index': 136}, 29: {'champion': 'Twitch', 'index': 137}, 77: {'champion': 'Udyr', 'index': 138}, 6: {'champion': 'Urgot', 'index': 139}, 110: {'champion': 'Varus', 'index': 140}, 67: {'champion': 'Vayne', 'index': 141}, 45: {'champion': 'Veigar', 'index': 142}, 161: {'champion': 'Velkoz', 'index': 143}, 711: {'champion': 'Vex', 'index': 144}, 254: {'champion': 'Vi', 'index': 145}, 234: {'champion': 'Viego', 'index': 146}, 112: {'champion': 'Viktor', 'index': 147}, 8: {'champion': 'Vladimir', 'index': 148}, 106: {'champion': 'Volibear', 'index': 149}, 19: {'champion': 'Warwick', 'index': 150}, 498: {'champion': 'Xayah', 'index': 151}, 101: {'champion': 'Xerath', 'index': 152}, 5: {'champion': 'XinZhao', 'index': 153}, 157: {'champion': 'Yasuo', 'index': 154}, 777: {'champion': 'Yone', 'index': 155}, 83: {'champion': 'Yorick', 'index': 156}, 350: {'champion': 'Yuumi', 'index': 157}, 154: {'champion': 'Zac', 'index': 158}, 238: {'champion': 'Zed', 'index': 159}, 221: {'champion': 'Zeri', 'index': 160}, 115: {'champion': 'Ziggs', 'index': 161}, 26: {'champion': 'Zilean', 'index': 162}, 142: {'champion': 'Zoe', 'index': 163}, 143: {'champion': 'Zyra', 'index': 164}}\n"
     ]
    }
   ],
   "source": [
    "filename = 'data/champion.json'\n",
    "with open(filename, 'r') as f:\n",
    "    champ_data = json.load(f)\n",
    "\n",
    "# contains index of championId and name\n",
    "id_champ_map = {}\n",
    "cols = []\n",
    "for i, c in enumerate(champ_data['data'].keys()):\n",
    "    id_champ_map[int(champ_data['data'][c]['key'])] = {'champion': champ_data['data'][c]['id'], 'index': i}\n",
    "    cols.append(champ_data['data'][c]['id'])\n",
    "\n",
    "print(cols)\n",
    "print(len(cols))\n",
    "print(id_champ_map)"
   ]
  },
  {
   "cell_type": "markdown",
   "id": "3fa76e47",
   "metadata": {},
   "source": [
    "## Save data in matrix format for analysis and df"
   ]
  },
  {
   "cell_type": "code",
   "execution_count": 15,
   "id": "15cdf205",
   "metadata": {},
   "outputs": [
    {
     "name": "stdout",
     "output_type": "stream",
     "text": [
      "[[0.         0.         0.02915197 ... 0.         0.         0.        ]\n",
      " [0.         0.         0.         ... 0.         0.         0.        ]\n",
      " [0.         0.34750708 0.35768539 ... 0.         0.         0.        ]\n",
      " ...\n",
      " [0.         0.01648805 0.         ... 0.         0.         0.        ]\n",
      " [0.         0.01841106 0.         ... 0.         0.         0.        ]\n",
      " [0.         0.16450107 0.15031608 ... 0.         0.         0.        ]]\n"
     ]
    }
   ],
   "source": [
    "filename = 'data/mastery_data.json'\n",
    "\n",
    "with open(filename, 'r') as f:\n",
    "    data = json.load(f)\n",
    "\n",
    "names = []\n",
    "r = np.zeros((len(data.keys()), len(cols)))\n",
    "\n",
    "for i, key in enumerate(data.keys()):\n",
    "    names.append([key])\n",
    "    for j, entry in enumerate(data[key]):\n",
    "        if j == 0:\n",
    "            maximum = entry['championPoints']\n",
    "        r[i][id_champ_map[entry['championId']]['index']] = entry['championPoints']/maximum\n",
    "fields = ['player_id']\n",
    "print(r)\n",
    "with open('data/names.csv', 'w') as f:\n",
    "    write = csv.writer(f)\n",
    "     \n",
    "    write.writerow(fields)\n",
    "    write.writerows(names)\n",
    "\n",
    "np.savetxt('data/mastery.csv', r, delimiter=',', header=','.join(cols))"
   ]
  },
  {
   "cell_type": "markdown",
   "id": "2ec086e0",
   "metadata": {},
   "source": [
    "## Save Data in surprise format to load into surprise"
   ]
  },
  {
   "cell_type": "code",
   "execution_count": 34,
   "id": "c0f98ee0",
   "metadata": {},
   "outputs": [],
   "source": [
    "filename = 'data/mastery_data.json'\n",
    "\n",
    "with open(filename, 'r') as f:\n",
    "    data = json.load(f)\n",
    "\n",
    "nameDict = {}\n",
    "fields = [\"user\", \"item\", \"rating\"]\n",
    "\n",
    "ratings = [] # list of items\n",
    "r = np.zeros((len(data.keys()), len(cols)))\n",
    "\n",
    "for i, key in enumerate(data.keys()):\n",
    "    nameDict[i + 1] = key\n",
    "    for j, entry in enumerate(data[key]):\n",
    "        if j == 0:\n",
    "            # sorted in descending order\n",
    "            maximum = entry['championPoints']\n",
    "            \n",
    "        score = entry['championPoints']/maximum\n",
    "        item = id_champ_map[entry['championId']]['index']\n",
    "        ratings.append([i+1, item, score]) \n",
    "\n",
    "with open('data/data_surprise_format.csv', 'w', newline='') as f:\n",
    "    writer = csv.writer(f)\n",
    "    writer.writerows(ratings)"
   ]
  },
  {
   "cell_type": "code",
   "execution_count": 4,
   "id": "55da7f41",
   "metadata": {},
   "outputs": [
    {
     "name": "stdout",
     "output_type": "stream",
     "text": [
      "      # Aatrox      Ahri     Akali    Akshan   Alistar     Amumu  Anivia  \\\n",
      "0          0.0  0.000000  0.029152  0.000000  0.000000  0.000000     0.0   \n",
      "1          0.0  0.000000  0.000000  0.000000  0.000000  0.000000     0.0   \n",
      "2          0.0  0.347507  0.357685  0.000000  0.000000  0.241668     0.0   \n",
      "3          0.0  0.000000  0.279145  0.000000  0.000000  0.000000     0.0   \n",
      "4          0.0  0.000000  0.000000  0.322004  0.355775  0.221738     0.0   \n",
      "...        ...       ...       ...       ...       ...       ...     ...   \n",
      "2839       0.0  0.064267  0.244775  0.000000  0.000000  0.000000     0.0   \n",
      "2840       0.0  0.000000  0.000000  0.000000  0.000000  0.000000     0.0   \n",
      "2841       0.0  0.016488  0.000000  0.000000  0.000000  0.014501     0.0   \n",
      "2842       0.0  0.018411  0.000000  0.000000  0.000000  0.000000     0.0   \n",
      "2843       0.0  0.164501  0.150316  0.000000  0.000000  0.000000     0.0   \n",
      "\n",
      "      Annie  Aphelios      Ashe  ...      Yone    Yorick     Yuumi       Zac  \\\n",
      "0       0.0  0.000000  0.021991  ...  0.153610  0.000000  0.000000  0.000000   \n",
      "1       0.0  0.000000  0.000000  ...  0.226327  0.061789  0.000000  0.204419   \n",
      "2       0.0  0.000000  0.267956  ...  0.000000  0.000000  0.000000  0.000000   \n",
      "3       0.0  0.000000  0.235216  ...  0.000000  0.000000  0.000000  0.000000   \n",
      "4       0.0  0.000000  0.000000  ...  0.000000  0.000000  0.000000  0.000000   \n",
      "...     ...       ...       ...  ...       ...       ...       ...       ...   \n",
      "2839    0.0  0.000000  0.000000  ...  0.000000  0.000000  0.111677  0.000000   \n",
      "2840    0.0  0.000000  0.083811  ...  0.000000  0.000000  0.000000  0.000000   \n",
      "2841    0.0  0.000000  0.019485  ...  0.010790  0.000000  0.000000  0.000000   \n",
      "2842    0.0  0.000000  0.000000  ...  0.000000  0.045480  0.000000  0.000000   \n",
      "2843    0.0  0.128373  0.000000  ...  0.244978  0.000000  0.151690  0.000000   \n",
      "\n",
      "           Zed  Zeri     Ziggs    Zilean  Zoe  Zyra  \n",
      "0     0.000000   0.0  0.000000  0.000000  0.0   0.0  \n",
      "1     0.059237   0.0  0.000000  0.000000  0.0   0.0  \n",
      "2     0.000000   0.0  0.000000  0.000000  0.0   0.0  \n",
      "3     0.000000   0.0  0.000000  0.000000  0.0   0.0  \n",
      "4     0.000000   0.0  0.087550  0.000000  0.0   0.0  \n",
      "...        ...   ...       ...       ...  ...   ...  \n",
      "2839  0.000000   0.0  0.000000  0.000000  0.0   0.0  \n",
      "2840  0.000000   0.0  0.045878  0.032453  0.0   0.0  \n",
      "2841  0.000000   0.0  0.000000  0.000000  0.0   0.0  \n",
      "2842  0.000000   0.0  0.000000  0.000000  0.0   0.0  \n",
      "2843  0.120187   0.0  0.000000  0.000000  0.0   0.0  \n",
      "\n",
      "[2844 rows x 165 columns]\n"
     ]
    }
   ],
   "source": [
    "df = pd.read_csv('data/mastery.csv')\n",
    "n = pd.read_csv('data/names.csv')\n",
    "\n",
    "print(df)"
   ]
  },
  {
   "cell_type": "code",
   "execution_count": 5,
   "id": "46a56f2c",
   "metadata": {},
   "outputs": [],
   "source": [
    "df.loc['total'] = df.sum(numeric_only=True, axis = 0)"
   ]
  },
  {
   "cell_type": "markdown",
   "id": "bc80043e",
   "metadata": {},
   "source": [
    "## Test on sample data"
   ]
  },
  {
   "cell_type": "code",
   "execution_count": 9,
   "id": "be9e7464",
   "metadata": {},
   "outputs": [
    {
     "name": "stdout",
     "output_type": "stream",
     "text": [
      "Dataset ml-100k could not be found. Do you want to download it? [Y/n] y\n",
      "Trying to download dataset from https://files.grouplens.org/datasets/movielens/ml-100k.zip...\n",
      "Done! Dataset ml-100k has been saved to /Users/marcotan/.surprise_data/ml-100k\n",
      "Evaluating RMSE, MAE of algorithm SVD on 5 split(s).\n",
      "\n",
      "                  Fold 1  Fold 2  Fold 3  Fold 4  Fold 5  Mean    Std     \n",
      "RMSE (testset)    0.9384  0.9378  0.9384  0.9331  0.9374  0.9370  0.0020  \n",
      "MAE (testset)     0.7378  0.7421  0.7376  0.7390  0.7382  0.7389  0.0016  \n",
      "Fit time          0.64    0.65    0.64    0.64    0.64    0.64    0.00    \n",
      "Test time         0.18    0.16    0.12    0.15    0.16    0.15    0.02    \n"
     ]
    },
    {
     "data": {
      "text/plain": [
       "{'test_rmse': array([0.93841427, 0.93779179, 0.93840339, 0.93312829, 0.93739769]),\n",
       " 'test_mae': array([0.73780342, 0.74208113, 0.73764253, 0.73895569, 0.7381667 ]),\n",
       " 'fit_time': (0.635577917098999,\n",
       "  0.6460738182067871,\n",
       "  0.6441450119018555,\n",
       "  0.6368138790130615,\n",
       "  0.636132001876831),\n",
       " 'test_time': (0.17853474617004395,\n",
       "  0.15749692916870117,\n",
       "  0.12292194366455078,\n",
       "  0.15475797653198242,\n",
       "  0.1565570831298828)}"
      ]
     },
     "execution_count": 9,
     "metadata": {},
     "output_type": "execute_result"
    }
   ],
   "source": [
    "from surprise import SVD\n",
    "from surprise import Dataset\n",
    "from surprise.model_selection import cross_validate\n",
    "\n",
    "data = Dataset.load_builtin('ml-100k')\n",
    "algo = SVD()\n",
    "cross_validate(algo, data, measures=['RMSE', 'MAE'], cv=5, verbose=True)"
   ]
  },
  {
   "cell_type": "markdown",
   "id": "db0c7b81",
   "metadata": {},
   "source": [
    "## Perform on my data"
   ]
  },
  {
   "cell_type": "code",
   "execution_count": 42,
   "id": "60b77621",
   "metadata": {},
   "outputs": [
    {
     "name": "stdout",
     "output_type": "stream",
     "text": [
      "Evaluating RMSE, MAE of algorithm SVD on 5 split(s).\n",
      "\n",
      "                  Fold 1  Fold 2  Fold 3  Fold 4  Fold 5  Mean    Std     \n",
      "RMSE (testset)    0.2255  0.2256  0.2251  0.2262  0.2256  0.2256  0.0004  \n",
      "MAE (testset)     0.1532  0.1527  0.1542  0.1537  0.1534  0.1534  0.0005  \n",
      "Fit time          0.44    0.45    0.43    0.44    0.42    0.44    0.01    \n",
      "Test time         0.09    0.16    0.09    0.09    0.13    0.11    0.03    \n"
     ]
    },
    {
     "data": {
      "text/plain": [
       "{'test_rmse': array([0.22551968, 0.22556659, 0.22506162, 0.22620993, 0.22557775]),\n",
       " 'test_mae': array([0.15319351, 0.1526554 , 0.15415729, 0.15369397, 0.15342994]),\n",
       " 'fit_time': (0.4442250728607178,\n",
       "  0.44663500785827637,\n",
       "  0.43267107009887695,\n",
       "  0.44251108169555664,\n",
       "  0.42369508743286133),\n",
       " 'test_time': (0.09103012084960938,\n",
       "  0.1619718074798584,\n",
       "  0.08678889274597168,\n",
       "  0.08718109130859375,\n",
       "  0.12565994262695312)}"
      ]
     },
     "execution_count": 42,
     "metadata": {},
     "output_type": "execute_result"
    }
   ],
   "source": [
    "file_path = os.path.expanduser(\"data/data_surprise_format.csv\")\n",
    "reader = Reader(sep=\",\", rating_scale=(0,1))\n",
    "data = Dataset.load_from_file(file_path, reader)\n",
    "\n",
    "algo = SVD()\n",
    "cross_validate(algo, data, measures=['RMSE', 'MAE'], cv=5, verbose=True)"
   ]
  },
  {
   "cell_type": "code",
   "execution_count": null,
   "id": "dd379032",
   "metadata": {},
   "outputs": [],
   "source": []
  }
 ],
 "metadata": {
  "kernelspec": {
   "display_name": "Python 3",
   "language": "python",
   "name": "python3"
  },
  "language_info": {
   "codemirror_mode": {
    "name": "ipython",
    "version": 3
   },
   "file_extension": ".py",
   "mimetype": "text/x-python",
   "name": "python",
   "nbconvert_exporter": "python",
   "pygments_lexer": "ipython3",
   "version": "3.8.8"
  }
 },
 "nbformat": 4,
 "nbformat_minor": 5
}
